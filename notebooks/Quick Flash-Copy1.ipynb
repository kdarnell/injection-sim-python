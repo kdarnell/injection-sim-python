{
 "cells": [
  {
   "cell_type": "markdown",
   "metadata": {},
   "source": [
    "# Major use of flash lookup"
   ]
  },
  {
   "cell_type": "code",
   "execution_count": 1,
   "metadata": {
    "collapsed": false
   },
   "outputs": [],
   "source": [
    "import lookup_table as lt\n",
    "import dill as pickle\n",
    "import numpy as np\n",
    "import time"
   ]
  },
  {
   "cell_type": "markdown",
   "metadata": {},
   "source": [
    "# Load pre-compiled data dictionary"
   ]
  },
  {
   "cell_type": "code",
   "execution_count": 2,
   "metadata": {
    "collapsed": true
   },
   "outputs": [],
   "source": [
    "data_dict = pickle.load(open('80bar_12C_data_dict_test.pkl', 'rb'))\n",
    "data_dict.keys()\n",
    "table = lt.quick_lookup(data_dict)"
   ]
  },
  {
   "cell_type": "markdown",
   "metadata": {},
   "source": [
    "# Generate random composition"
   ]
  },
  {
   "cell_type": "code",
   "execution_count": 3,
   "metadata": {
    "collapsed": false
   },
   "outputs": [
    {
     "name": "stdout",
     "output_type": "stream",
     "text": [
      "([0, 2], (array([[  9.98076539e-01,   2.61121004e-04],\n",
      "       [  1.87956694e-03,   9.73774871e-01],\n",
      "       [  4.38940012e-05,   2.59640084e-02],\n",
      "       [  0.00000000e+00,   0.00000000e+00]]), array([ 0.88442142,  0.11557858]), 1.3877787807814457e-17, 0.0), 1.3877787807814457e-17)\n"
     ]
    }
   ],
   "source": [
    "z = [  8.82750452e-01,   1.14209844e-01,   3.03970396e-03,           0.00000000e+00]\n",
    "result = table.flash(np.asarray(z))\n",
    "print(result)\n"
   ]
  },
  {
   "cell_type": "code",
   "execution_count": null,
   "metadata": {
    "collapsed": true
   },
   "outputs": [],
   "source": []
  }
 ],
 "metadata": {
  "anaconda-cloud": {},
  "kernelspec": {
   "display_name": "Python [conda env:py27]",
   "language": "python",
   "name": "conda-env-py27-py"
  },
  "language_info": {
   "codemirror_mode": {
    "name": "ipython",
    "version": 2
   },
   "file_extension": ".py",
   "mimetype": "text/x-python",
   "name": "python",
   "nbconvert_exporter": "python",
   "pygments_lexer": "ipython2",
   "version": "2.7.13"
  }
 },
 "nbformat": 4,
 "nbformat_minor": 1
}
