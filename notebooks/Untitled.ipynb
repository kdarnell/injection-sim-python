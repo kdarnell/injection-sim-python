{
 "cells": [
  {
   "cell_type": "code",
   "execution_count": 1,
   "metadata": {
    "collapsed": false
   },
   "outputs": [],
   "source": [
    "import flashalgorithm as fc\n",
    "import component_properties as comp_table\n",
    "import vlhc_srk_eos as hc\n",
    "import aq_hb_eos as aq\n",
    "import h_vdwpm_eos as hyd\n",
    "import numpy as np"
   ]
  },
  {
   "cell_type": "code",
   "execution_count": 2,
   "metadata": {
    "collapsed": true
   },
   "outputs": [],
   "source": [
    "def make_pretty_output(output, flash):\n",
    "    stable_dict = {phase: ii for ii, (phase, alpha) in \n",
    "                   enumerate(zip(flash.phases, flash.alpha_calc)) \n",
    "                   if alpha > 1e-10}\n",
    "    print('Calculation considers the following phases:\\n{0}\\n'.format(flash.phases))\n",
    "    print('The stable phases are:')\n",
    "    for phase, index in stable_dict.items():\n",
    "        print('\\n{0}: {1:3.5f} mol.%'.format(phase, flash.alpha_calc[index]))\n",
    "        for ii, comp in enumerate(flash.compobjs): \n",
    "            print('\\twith {0:3.5f} mol.% {1}'.format(\n",
    "                flash.x_calc[ii, index],\n",
    "                comp.compname))\n",
    "\n"
   ]
  },
  {
   "cell_type": "code",
   "execution_count": 11,
   "metadata": {
    "collapsed": false
   },
   "outputs": [
    {
     "name": "stdout",
     "output_type": "stream",
     "text": [
      "Calculation considers the following phases:\n",
      "['aqueous', 'vapor', 'lhc', 's1', 's2']\n",
      "\n",
      "The stable phases are:\n",
      "\n",
      "lhc: 0.19959 mol.%\n",
      "\twith 0.00010 mol.% h2o\n",
      "\twith 0.99990 mol.% c3h8\n",
      "\n",
      "vapor: 0.27107 mol.%\n",
      "\twith 0.00010 mol.% h2o\n",
      "\twith 0.99990 mol.% c3h8\n",
      "\n",
      "s2: 0.52935 mol.%\n",
      "\twith 0.94447 mol.% h2o\n",
      "\twith 0.05553 mol.% c3h8\n"
     ]
    }
   ],
   "source": [
    "comps_iter_c3 = ['water', 'propane']\n",
    "flash_iter_c3 = fc.FlashController(components=comps_iter_c3,\n",
    "                                phases=('aqueous', 'vapor', 'lhc', 's1', 's2'))\n",
    "output = flash_iter_c3.main_handler(\n",
    "            compobjs=flash_iter_c3.compobjs, \n",
    "            z=np.asarray([0.5, 0.5]), \n",
    "            T=273.15+4.5, \n",
    "            P=40,\n",
    "            incipient_calc=False)\n",
    "make_pretty_output(output, flash_iter_c3)"
   ]
  },
  {
   "cell_type": "code",
   "execution_count": 4,
   "metadata": {
    "collapsed": false
   },
   "outputs": [
    {
     "data": {
      "text/plain": [
       "[array([[  9.99709791e-01,   1.95354856e-03,   1.25965982e-04,\n",
       "           9.98555506e-01,   9.44477681e-01],\n",
       "        [  2.90208507e-04,   9.98046451e-01,   9.99874034e-01,\n",
       "           1.44449426e-03,   5.55223186e-02]]),\n",
       " array([ 0.        ,  0.47158228,  0.        ,  0.        ,  0.52841772]),\n",
       " array([[  5.08813151e+02,   1.00000000e+00,   5.06791791e-02,\n",
       "           3.19841498e+02,   4.83467727e+02],\n",
       "        [  2.89113238e-04,   1.00000000e+00,   7.87399330e-01,\n",
       "           1.44732168e-03,   5.56309965e-02]]),\n",
       " 49,\n",
       " 5.5576074032550812e-10]"
      ]
     },
     "execution_count": 4,
     "metadata": {},
     "output_type": "execute_result"
    }
   ],
   "source": [
    "output"
   ]
  },
  {
   "cell_type": "code",
   "execution_count": 5,
   "metadata": {
    "collapsed": false
   },
   "outputs": [
    {
     "data": {
      "text/plain": [
       "{'K_calc': array([[  5.08813151e+02,   1.00000000e+00,   5.06791791e-02,\n",
       "           3.19841498e+02,   4.83467727e+02],\n",
       "        [  2.89113238e-04,   1.00000000e+00,   7.87399330e-01,\n",
       "           1.44732168e-03,   5.56309965e-02]]),\n",
       " 'Nc': 2,\n",
       " 'Np': 5,\n",
       " 'P': 1.0,\n",
       " 'T': 298.15,\n",
       " 'alpha_calc': array([ 0.        ,  0.47158228,  0.        ,  0.        ,  0.52841772]),\n",
       " 'completed': True,\n",
       " 'compname': ['h2o', 'c3h8'],\n",
       " 'compobjs': [<component_properties.Component at 0x10484c048>,\n",
       "  <component_properties.Component at 0x1048562b0>],\n",
       " 'eos': {'aqueous': 'aqhb',\n",
       "  'ice': 'ice',\n",
       "  'lhc': 'srk',\n",
       "  's1': 'hvdwpm',\n",
       "  's2': 'hvdwpm',\n",
       "  'vapor': 'srk'},\n",
       " 'feed': array([ 0.5,  0.5]),\n",
       " 'fug_list': [<aq_hb_eos.HegBromEos at 0x1048562e8>,\n",
       "  <vlhc_srk_eos.SrkEos at 0x104856240>,\n",
       "  <vlhc_srk_eos.SrkEos at 0x10ae9e978>,\n",
       "  <h_vdwpm_eos.HvdwpmEos at 0x10ae9ea58>,\n",
       "  <h_vdwpm_eos.HvdwpmEos at 0x10add4e48>],\n",
       " 'h2oexists': True,\n",
       " 'h2oind': 0,\n",
       " 'hyd_phases': {'s1': 3, 's2': 4},\n",
       " 'nonhyd_phases': [0, 1, 2],\n",
       " 'phases': ['aqueous', 'vapor', 'lhc', 's1', 's2'],\n",
       " 'ref_comp': array([ 0.00195355,  0.99804645]),\n",
       " 'ref_fug': array([ 0.00800566,  3.69065138]),\n",
       " 'ref_ind': 1,\n",
       " 'ref_phase': 'vapor',\n",
       " 'ref_phase_iter': 1,\n",
       " 'ref_phase_list': [],\n",
       " 'ref_phases_tried': ['vapor', 'lhc', 'aqueous'],\n",
       " 'theta_calc': array([ 0.00573668,  0.        ,  0.24084924,  0.46797307,  0.        ]),\n",
       " 'x_calc': array([[  9.99709791e-01,   1.95354856e-03,   1.25965982e-04,\n",
       "           9.98555506e-01,   9.44477681e-01],\n",
       "        [  2.90208507e-04,   9.98046451e-01,   9.99874034e-01,\n",
       "           1.44449426e-03,   5.55223186e-02]])}"
      ]
     },
     "execution_count": 5,
     "metadata": {},
     "output_type": "execute_result"
    }
   ],
   "source": [
    "flash_iter_c3.__dict__"
   ]
  },
  {
   "cell_type": "code",
   "execution_count": 6,
   "metadata": {
    "collapsed": false
   },
   "outputs": [
    {
     "ename": "SyntaxError",
     "evalue": "invalid syntax (<ipython-input-6-a269b628154a>, line 1)",
     "output_type": "error",
     "traceback": [
      "\u001b[0;36m  File \u001b[0;32m\"<ipython-input-6-a269b628154a>\"\u001b[0;36m, line \u001b[0;32m1\u001b[0m\n\u001b[0;31m    flash_iter_c3.fug_list[-1].\u001b[0m\n\u001b[0m                               ^\u001b[0m\n\u001b[0;31mSyntaxError\u001b[0m\u001b[0;31m:\u001b[0m invalid syntax\n"
     ]
    }
   ],
   "source": [
    "flash_iter_c3.fug_list[-1]."
   ]
  },
  {
   "cell_type": "code",
   "execution_count": null,
   "metadata": {
    "collapsed": false
   },
   "outputs": [],
   "source": [
    "comp_single = [comp_table.Component('water')]\n",
    "SRK_obj = hc.SrkEos(comp_single, 298.15, 1)\n",
    "hc_fug = SRK_obj.calc(comp_single, 298.15, 1, [1.0], phase='lhc')\n",
    "Aq_obj = aq.HegBromEos(comp_single, 298.15, 1)\n",
    "aq_fug = Aq_obj.calc(comp_single, 298.15, 1, [1.0])\n",
    "\n",
    "\n",
    "\n"
   ]
  },
  {
   "cell_type": "code",
   "execution_count": null,
   "metadata": {
    "collapsed": false
   },
   "outputs": [],
   "source": [
    "print(aq_fug)"
   ]
  },
  {
   "cell_type": "code",
   "execution_count": null,
   "metadata": {
    "collapsed": true
   },
   "outputs": [],
   "source": []
  }
 ],
 "metadata": {
  "anaconda-cloud": {},
  "kernelspec": {
   "display_name": "Python [conda root]",
   "language": "python",
   "name": "conda-root-py"
  },
  "language_info": {
   "codemirror_mode": {
    "name": "ipython",
    "version": 3
   },
   "file_extension": ".py",
   "mimetype": "text/x-python",
   "name": "python",
   "nbconvert_exporter": "python",
   "pygments_lexer": "ipython3",
   "version": "3.5.2"
  }
 },
 "nbformat": 4,
 "nbformat_minor": 1
}
