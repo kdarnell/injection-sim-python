{
 "cells": [
  {
   "cell_type": "code",
   "execution_count": 1,
   "metadata": {
    "collapsed": true
   },
   "outputs": [],
   "source": [
    "import numpy as np\n",
    "import dill as pickle\n",
    "\n",
    "comp_ind_dict = {'water': 0,\n",
    "                 'methane': 1,\n",
    "                 'ethane': 2,\n",
    "                 'propane': 3}"
   ]
  },
  {
   "cell_type": "code",
   "execution_count": 2,
   "metadata": {
    "collapsed": true
   },
   "outputs": [],
   "source": [
    "def get_stable_phases(x):\n",
    "    index_get = list()\n",
    "    color = 'black'\n",
    "    if np.sum((x[4][0][:, 1] - x[4][0][:, 2])**2) < 1e-8:\n",
    "        if (x[4][1][1] > x[4][1][2]) and (x[4][1][1] > 1e-10):\n",
    "            index_get.append(2)\n",
    "        elif (x[4][1][2] > 1e-10):\n",
    "            index_get.append(2)\n",
    "    else:\n",
    "        if x[4][1][1] > 1e-10:\n",
    "            index_get.append(1)\n",
    "        if x[4][1][2] > 1e-10:\n",
    "            index_get.append(2)\n",
    "    for ii in [0, 3, 4]:\n",
    "        if x[4][1][ii] > 1e-10:\n",
    "            index_get.append(ii)\n",
    "    if len(index_get) == 2:\n",
    "        if sorted(index_get) == [0,1]:\n",
    "            color = 'blue'\n",
    "        elif sorted(index_get) == [0,2]:\n",
    "            color = 'green'\n",
    "        elif sorted(index_get) == [0,3]:\n",
    "            color = 'pink'\n",
    "        elif sorted(index_get) == [0,4]:\n",
    "            color = 'orange'\n",
    "        elif sorted(index_get) == [1,3]:\n",
    "            color = 'teal'\n",
    "        elif sorted(index_get) == [1,4]:\n",
    "            color = 'gray'\n",
    "        elif sorted(index_get) == [2,3]:\n",
    "            color = 'olive'\n",
    "        elif sorted(index_get) == [3,4]:\n",
    "            color = 'brown'\n",
    "        elif sorted(index_get) == [2,4]:\n",
    "            color = 'purple'\n",
    "        else:\n",
    "            color = 'burgundy'\n",
    "    return index_get, color\n",
    "\n",
    "def make_ref_list(data):\n",
    "    phase_stable_lookup = dict()\n",
    "    type_ref_list = list()\n",
    "    phase_type = 0\n",
    "    for ii, x in enumerate(data):\n",
    "        index_get, color = get_stable_phases(x)\n",
    "        if sorted(index_get) in type_ref_list:\n",
    "            phase_stable_lookup[type_ref_list.index(sorted(index_get))]['inds'].append(ii)\n",
    "        else:\n",
    "            phase_stable_lookup[phase_type] = {'phases': sorted(index_get), 'inds': [ii], 'color': color}\n",
    "            phase_type += 1\n",
    "            type_ref_list.append(sorted(index_get))\n",
    "    return type_ref_list, phase_stable_lookup\n",
    "        \n",
    "def make_midpoint(xx, index):\n",
    "    mean_pts = np.mean(xx[4][0][:, index], axis=1)\n",
    "    if len(xx[2]) == 4:\n",
    "        return mean_pts\n",
    "    else:\n",
    "        result = np.zeros([4])\n",
    "        for ii in range(len(xx[2])):\n",
    "            result[comp_ind_dict[xx[2][ii]]] = mean_pts[ii]\n",
    "        return result\n",
    "    \n",
    "def make_full_mat(xx, index):\n",
    "    data_mod = xx[4][0][:, index]\n",
    "    if len(xx[2]) == 4:\n",
    "        return data_mod\n",
    "    else:\n",
    "        result = np.zeros([4, len(index)])\n",
    "        for ii in range(len(xx[2])):\n",
    "            result[comp_ind_dict[xx[2][ii]], :] = data_mod[ii, :]\n",
    "        return result\n",
    "    \n",
    "def prepare_3phase_data(data):\n",
    "    phase_zone_dict = dict()\n",
    "    ii = 0\n",
    "    jj = 0\n",
    "    ref_list, phase_stable_lookup = make_ref_list(data)\n",
    "    while ii < len(ref_list):\n",
    "        phase_inds = ref_list[ii]\n",
    "        if len(phase_inds) == 3:\n",
    "            data_subset = [data[i] for i in phase_stable_lookup[ii]['inds']]\n",
    "            data_subsetfull = np.asarray([make_full_mat(x, phase_inds) for x in data_subset])\n",
    "            reduce_cond = np.ones([len(data_subsetfull)], dtype=bool)\n",
    "            \n",
    "            data_3phase = np.unique(data_subsetfull[reduce_cond, :, :].round(6), axis=0)\n",
    "            data_3phase = data_3phase[np.argsort(data_3phase[:, 1, 1]), :, :]\n",
    "            data_mdpt = np.mean(data_3phase, axis=2)\n",
    "            onecompfrac = data_mdpt[:, 1] / np.sum(data_mdpt[:, 1:], axis=1)\n",
    "            midpt, midpt_ind = np.unique(onecompfrac.round(2), return_index=True)\n",
    "            for midgroup in midpt_ind:\n",
    "                data_group = data_3phase[midgroup, :, :]\n",
    "                if len(data_group.shape) == 2:\n",
    "                    data_group = data_group[np.newaxis, :, :]\n",
    "                phase_zone_dict[jj] = {'inds': phase_inds,\n",
    "                                       'data': data_group,\n",
    "                                       'h2o_stats': {'max': np.squeeze(np.max(data_group, axis=-1))[0], \n",
    "                                                     'min': np.squeeze(np.min(data_group, axis=-1))[0]}}\n",
    "                jj += 1\n",
    "        ii += 1\n",
    "    return phase_zone_dict\n",
    "\n",
    "def prepare_2phase_data(data):\n",
    "    phase_zone_dict = dict()\n",
    "    ii = 0\n",
    "    jj = 0\n",
    "    ref_list, phase_stable_lookup = make_ref_list(data)\n",
    "    while ii < len(ref_list):\n",
    "        phase_inds = ref_list[ii]\n",
    "        if len(phase_inds) == 2:\n",
    "            data_subset = [data[i] for i in phase_stable_lookup[ii]['inds']]\n",
    "            data_subsetfull = np.asarray([make_full_mat(x, phase_inds) for x in data_subset])\n",
    "            data_2phase = np.unique(data_subsetfull.round(6), axis=0)\n",
    "            data_2phase = data_2phase[np.argsort(np.unique(data_2phase, axis=2)[:, 1, 1]), :, :]\n",
    "            phase_zone_dict[jj] = {'inds': phase_inds,\n",
    "                                   'data': data_2phase,\n",
    "                                   'h2o_stats': {'max': np.squeeze(np.max(data_2phase, axis=-1))[0], \n",
    "                                                 'min': np.squeeze(np.min(data_2phase, axis=-1))[0]}}\n",
    "            jj += 1\n",
    "        ii += 1\n",
    "    return phase_zone_dict\n",
    "\n",
    "def prepare_4phase_data(data):\n",
    "    phase_zone_dict = dict()\n",
    "    ii = 0\n",
    "    jj = 0\n",
    "    ref_list, phase_stable_lookup = make_ref_list(data)\n",
    "    while ii < len(ref_list):\n",
    "        phase_inds = ref_list[ii]\n",
    "        if len(phase_inds) == 4:\n",
    "            data_subset = [data[i] for i in phase_stable_lookup[ii]['inds']]\n",
    "            data_subsetfull = np.asarray([make_full_mat(x, phase_inds) for x in data_subset])\n",
    "            data_4phase = np.mean(data_subsetfull, axis=0)\n",
    "            phase_zone_dict[jj] = {'inds': phase_inds,\n",
    "                                   'data': data_4phase,\n",
    "                                   'h2o_stats': {'max': np.squeeze(np.max(data_2phase, axis=-1))[0], \n",
    "                                                 'min': np.squeeze(np.min(data_2phase, axis=-1))[0]}}\n",
    "            jj += 1\n",
    "        ii += 1\n",
    "    return phase_zone_dict"
   ]
  },
  {
   "cell_type": "code",
   "execution_count": 3,
   "metadata": {
    "collapsed": true
   },
   "outputs": [],
   "source": [
    "def gen_lookup_table(data, P, T):\n",
    "    ref_list, phase_stable_lookup = make_ref_list(data)\n",
    "    max_h2o = np.max([x[4][0][0,:] for x in data])\n",
    "    min_h2o = np.min([x[4][0][0,:] for x in data])\n",
    "    h2o_stats = {'max': max_h2o, 'min': min_h2o}\n",
    "    phase_3_dict = prepare_3phase_data(data)\n",
    "    phase_2_dict = prepare_2phase_data(data)\n",
    "    phase_4_dict = prepare_4phase_data(data)\n",
    "\n",
    "    for key_2p in phase_2_dict:\n",
    "        inds_2p = phase_2_dict[key_2p]['inds']\n",
    "        for key_3p in phase_3_dict:\n",
    "            inds_3p = phase_3_dict[key_3p]['inds']\n",
    "            overlap = set(inds_2p) & set(inds_3p)\n",
    "            if len(overlap)==2:\n",
    "                map_2pto3p = dict()\n",
    "                for ii, ind_2p in enumerate(inds_2p):\n",
    "                    for jj, ind_3p in enumerate(inds_3p):\n",
    "                        if ind_2p == ind_3p:\n",
    "                            map_2pto3p[ii] = jj\n",
    "                addl_data = np.zeros((len(phase_3_dict[key_3p]['data']), 4, 2))\n",
    "                addl_data[:, :, 0] = phase_3_dict[key_3p]['data'][:, :, map_2pto3p[0]]\n",
    "                addl_data[:, :, 1] = phase_3_dict[key_3p]['data'][:, :, map_2pto3p[1]]\n",
    "                phase_2_dict[key_2p]['data'] = np.vstack((phase_2_dict[key_2p]['data'], addl_data))\n",
    "\n",
    "    full_data_dict = dict()\n",
    "    full_data_dict['4_phase'] = phase_4_dict\n",
    "    full_data_dict['3_phase'] = phase_3_dict\n",
    "    full_data_dict['2_phase'] = phase_2_dict\n",
    "    full_data_dict['h2o_stats'] = h2o_stats\n",
    "    full_data_dict['PT_info'] = {'P': P, 'T': T}\n",
    "    pickle.dump(full_data_dict, open('{0}bar_{1}C_data_dict.pkl'.format(P, T), 'w'))"
   ]
  },
  {
   "cell_type": "code",
   "execution_count": 4,
   "metadata": {
    "collapsed": false
   },
   "outputs": [
    {
     "name": "stdout",
     "output_type": "stream",
     "text": [
      "c1toc3_flashtable_110bar15.5C.pkl\n",
      "c1toc3_flashtable_110bar17.5C.pkl\n",
      "c1toc3_flashtable_110bar13C.pkl\n",
      "c1toc3_flashtable_110bar18C.pkl\n",
      "c1toc3_flashtable_110bar14C.pkl\n",
      "c1toc3_flashtable_110bar13.5C.pkl\n",
      "c1toc3_flashtable_110bar15C.pkl\n",
      "c1toc3_flashtable_110bar19C.pkl\n",
      "c1toc3_flashtable_110bar18.5C.pkl\n",
      "c1toc3_flashtable_110bar16C.pkl\n",
      "c1toc3_flashtable_110bar14.5C.pkl\n",
      "c1toc3_flashtable_110bar17C.pkl\n",
      "c1toc3_flashtable_110bar16.5C.pkl\n"
     ]
    }
   ],
   "source": [
    "# Template file: c1toc3_flashtable_110bar13.5C.pkl\n",
    "\n",
    "import os\n",
    "prefix = 'c1toc3_flashtable_110bar'\n",
    "all_files = os.listdir(os.getcwd())\n",
    "file_list = [f for f in all_files if prefix in f]\n",
    "for filename in file_list:\n",
    "    P = 110\n",
    "    T = filename[len(prefix):-5]\n",
    "    with open(filename, 'rb') as f:\n",
    "        print(filename)\n",
    "        gen_lookup_table(pickle.load(f), P, T)"
   ]
  },
  {
   "cell_type": "code",
   "execution_count": 5,
   "metadata": {
    "collapsed": false
   },
   "outputs": [],
   "source": [
    "sample = pickle.load(open('110bar_13.5C_data_dict.pkl', 'rb'))"
   ]
  },
  {
   "cell_type": "code",
   "execution_count": 6,
   "metadata": {
    "collapsed": false
   },
   "outputs": [],
   "source": [
    "data_mdpt = np.mean(sample['3_phase'][0]['data'], axis=2)\n",
    "onecompfrac = data_mdpt[:, 1] / np.sum(data_mdpt[:, 1:], axis=1)\n",
    "t1, t2 = np.unique(onecompfrac.round(4), return_index=True)\n",
    "#             reduce_cond = data_mdpt[:, 1] / np.sum(data_mdpt[:, 1:], axis=1)"
   ]
  },
  {
   "cell_type": "code",
   "execution_count": 7,
   "metadata": {
    "collapsed": false
   },
   "outputs": [
    {
     "data": {
      "text/plain": [
       "(array([ 0.6048]), array([0]))"
      ]
     },
     "execution_count": 7,
     "metadata": {},
     "output_type": "execute_result"
    }
   ],
   "source": [
    "t1, t2"
   ]
  },
  {
   "cell_type": "code",
   "execution_count": null,
   "metadata": {
    "collapsed": true
   },
   "outputs": [],
   "source": []
  }
 ],
 "metadata": {
  "anaconda-cloud": {},
  "kernelspec": {
   "display_name": "Python [conda env:py27]",
   "language": "python",
   "name": "conda-env-py27-py"
  },
  "language_info": {
   "codemirror_mode": {
    "name": "ipython",
    "version": 2
   },
   "file_extension": ".py",
   "mimetype": "text/x-python",
   "name": "python",
   "nbconvert_exporter": "python",
   "pygments_lexer": "ipython2",
   "version": "2.7.13"
  }
 },
 "nbformat": 4,
 "nbformat_minor": 1
}
