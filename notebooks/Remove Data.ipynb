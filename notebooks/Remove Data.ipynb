{
 "cells": [
  {
   "cell_type": "code",
   "execution_count": 15,
   "metadata": {
    "collapsed": false
   },
   "outputs": [],
   "source": [
    "import dill as pickle\n",
    "data = pickle.load(open('c1toc3_flashtable_80bar12C_pt_new1.pkl', 'rb'))\n",
    "list_of_bad = pickle.load(open('remove_list.pkl', 'rb'))\n",
    "data = [xx for xx in data if (xx[0] not in list_of_bad)]\n",
    "pickle.dump(data, open('c1toc3_flashtable_80bar12C_pt_new1.pkl', 'w'))"
   ]
  },
  {
   "cell_type": "code",
   "execution_count": null,
   "metadata": {
    "collapsed": true
   },
   "outputs": [],
   "source": []
  }
 ],
 "metadata": {
  "kernelspec": {
   "display_name": "Python [conda env:py27]",
   "language": "python",
   "name": "conda-env-py27-py"
  },
  "language_info": {
   "codemirror_mode": {
    "name": "ipython",
    "version": 2
   },
   "file_extension": ".py",
   "mimetype": "text/x-python",
   "name": "python",
   "nbconvert_exporter": "python",
   "pygments_lexer": "ipython2",
   "version": "2.7.13"
  }
 },
 "nbformat": 4,
 "nbformat_minor": 1
}
