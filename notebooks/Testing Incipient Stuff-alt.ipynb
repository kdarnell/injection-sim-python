{
 "cells": [
  {
   "cell_type": "code",
   "execution_count": 1,
   "metadata": {
    "collapsed": false
   },
   "outputs": [],
   "source": [
    "import flashalgorithm as fc\n",
    "import component_properties as comp_table\n",
    "import vlhc_srk_eos as hc\n",
    "import aq_hb_eos as aq\n",
    "import h_vdwpm_eos as hyd\n",
    "import numpy as np"
   ]
  },
  {
   "cell_type": "code",
   "execution_count": 2,
   "metadata": {
    "collapsed": true
   },
   "outputs": [],
   "source": [
    "def make_pretty_output(output, flash):\n",
    "    stable_dict = {phase: ii for ii, (phase, alpha) in \n",
    "                   enumerate(zip(flash.phases, flash.alpha_calc)) \n",
    "                   if alpha > 1e-10}\n",
    "    print('Calculation considers the following phases:\\n{0}\\n'.format(flash.phases))\n",
    "    print('The stable phases are:')\n",
    "    for phase, index in stable_dict.items():\n",
    "        print('\\n{0}: {1:3.5f} mol.%'.format(phase, flash.alpha_calc[index]))\n",
    "        for ii, comp in enumerate(flash.compobjs): \n",
    "            print('\\twith {0:3.5f} mol.% {1}'.format(\n",
    "                flash.x_calc[ii, index],\n",
    "                comp.compname))"
   ]
  },
  {
   "cell_type": "code",
   "execution_count": 3,
   "metadata": {
    "collapsed": true
   },
   "outputs": [],
   "source": [
    "P = 70 # bar\n",
    "T = 273.15 + 6 # Kelvin"
   ]
  },
  {
   "cell_type": "code",
   "execution_count": 4,
   "metadata": {
    "collapsed": false
   },
   "outputs": [
    {
     "name": "stderr",
     "output_type": "stream",
     "text": [
      "/Users/kdarnell/hydrateflash_KD/flashalgorithm.py:338: RuntimeWarning: overflow encountered in exp\n",
      "  + s['a12']*np.log(P/T**2) + s['a13']/T**2)\n"
     ]
    },
    {
     "name": "stdout",
     "output_type": "stream",
     "text": [
      "Calculation considers the following phases:\n",
      "['aqueous', 'vapor', 'lhc', 's1', 's2']\n",
      "\n",
      "The stable phases are:\n",
      "\n",
      "lhc: 0.67475 mol.%\n",
      "\twith 0.00011 mol.% h2o\n",
      "\twith 0.31561 mol.% ch4\n",
      "\twith 0.34809 mol.% c2h6\n",
      "\twith 0.33619 mol.% c3h8\n",
      "\n",
      "s2: 0.29041 mol.%\n",
      "\twith 0.86058 mol.% h2o\n",
      "\twith 0.08969 mol.% ch4\n",
      "\twith 0.01032 mol.% c2h6\n",
      "\twith 0.03941 mol.% c3h8\n",
      "\n",
      "vapor: 0.03484 mol.%\n",
      "\twith 0.00011 mol.% h2o\n",
      "\twith 0.31561 mol.% ch4\n",
      "\twith 0.34809 mol.% c2h6\n",
      "\twith 0.33619 mol.% c3h8\n"
     ]
    }
   ],
   "source": [
    "comps_iter = ['water', 'methane', 'ethane', 'propane']\n",
    "flash_iter = fc.FlashController(components=comps_iter,\n",
    "                                phases=('aqueous', 'vapor', 'lhc', 's1', 's2'))\n",
    "output = flash_iter.main_handler(\n",
    "            compobjs=flash_iter.compobjs, \n",
    "            z=np.asarray([0.25, 0.25, 0.25, 0.25]), \n",
    "            T=T, \n",
    "            P=P)\n",
    "make_pretty_output(output, flash_iter)"
   ]
  },
  {
   "cell_type": "code",
   "execution_count": 5,
   "metadata": {
    "collapsed": false
   },
   "outputs": [
    {
     "name": "stderr",
     "output_type": "stream",
     "text": [
      "/Users/kdarnell/hydrateflash_KD/flashalgorithm.py:338: RuntimeWarning: overflow encountered in exp\n",
      "  + s['a12']*np.log(P/T**2) + s['a13']/T**2)\n"
     ]
    },
    {
     "name": "stdout",
     "output_type": "stream",
     "text": [
      "Calculation considers the following phases:\n",
      "['aqueous', 'vapor', 'lhc', 's1', 's2']\n",
      "\n",
      "The stable phases are:\n",
      "\n",
      "lhc: 0.70959 mol.%\n",
      "\twith 0.00011 mol.% h2o\n",
      "\twith 0.31561 mol.% ch4\n",
      "\twith 0.34809 mol.% c2h6\n",
      "\twith 0.33619 mol.% c3h8\n",
      "\n",
      "s2: 0.29041 mol.%\n",
      "\twith 0.86059 mol.% h2o\n",
      "\twith 0.08968 mol.% ch4\n",
      "\twith 0.01032 mol.% c2h6\n",
      "\twith 0.03941 mol.% c3h8\n"
     ]
    }
   ],
   "source": [
    "comps_iter_incipient = ['water', 'methane', 'ethane', 'propane']\n",
    "flash_iter_incipient = fc.FlashController(components=comps_iter_incipient,\n",
    "                                phases=('aqueous', 'vapor', 'lhc', 's1', 's2'))\n",
    "output = flash_iter_incipient.main_handler(\n",
    "            compobjs=flash_iter_incipient.compobjs, \n",
    "            z=np.asarray([0.25, 0.25, 0.25, 0.25]), \n",
    "            T=T, \n",
    "            P=P,\n",
    "            incipient_calc=True)\n",
    "make_pretty_output(output, flash_iter_incipient)"
   ]
  },
  {
   "cell_type": "code",
   "execution_count": 6,
   "metadata": {
    "collapsed": false
   },
   "outputs": [
    {
     "name": "stdout",
     "output_type": "stream",
     "text": [
      "22.8338929203\n",
      "22.9289121004\n",
      "5.27868825456e-06\n",
      "[  0.00000000e+00   8.76184817e-01   1.23630442e-03   3.99645400e-17] [ 0.          0.01921882  0.20142898  0.77847894]\n",
      "0.999793021423\n",
      "0.996194760702\n"
     ]
    }
   ],
   "source": [
    "s2h = flash_iter_incipient.fug_list[-1]\n",
    "print(s2h.hydrate_size(T, P, s2h.v_H_0, s2h.kappa_func(s2h.Y_large)))\n",
    "print(s2h.v_H_0)\n",
    "print(s2h.kappa_func(s2h.Y_large))\n",
    "print(s2h.Y_small, s2h.Y_large)\n",
    "print(np.exp(-3e-6*(69)))\n",
    "print(np.exp(2.029776e-4*(279.15-298.15) + 1.1851168e-7*(279.15-298.15)**2) + -1.879455e-10*(279.15-298.15)**3)"
   ]
  },
  {
   "cell_type": "code",
   "execution_count": 7,
   "metadata": {
    "collapsed": false
   },
   "outputs": [
    {
     "name": "stderr",
     "output_type": "stream",
     "text": [
      "/Users/kdarnell/hydrateflash_KD/flashalgorithm.py:338: RuntimeWarning: overflow encountered in exp\n",
      "  + s['a12']*np.log(P/T**2) + s['a13']/T**2)\n"
     ]
    },
    {
     "name": "stdout",
     "output_type": "stream",
     "text": [
      "Calculation considers the following phases:\n",
      "['aqueous', 'vapor', 'lhc', 's1', 's2']\n",
      "\n",
      "The stable phases are:\n",
      "\n",
      "lhc: 0.70995 mol.%\n",
      "\twith 0.00019 mol.% h2o\n",
      "\twith 0.31669 mol.% ch4\n",
      "\twith 0.34569 mol.% c2h6\n",
      "\twith 0.33742 mol.% c3h8\n",
      "\n",
      "s1: 0.02311 mol.%\n",
      "\twith 0.85814 mol.% h2o\n",
      "\twith 0.06593 mol.% ch4\n",
      "\twith 0.07579 mol.% c2h6\n",
      "\twith 0.00015 mol.% c3h8\n",
      "\n",
      "s2: 0.26694 mol.%\n",
      "\twith 0.86173 mol.% h2o\n",
      "\twith 0.08856 mol.% ch4\n",
      "\twith 0.01058 mol.% c2h6\n",
      "\twith 0.03913 mol.% c3h8\n"
     ]
    }
   ],
   "source": [
    "comps_iter_incipient = ['water', 'methane', 'ethane', 'propane']\n",
    "flash_iter_incipient = fc.FlashController(components=comps_iter_incipient,\n",
    "                                phases=('aqueous', 'vapor', 'lhc', 's1', 's2'))\n",
    "output = flash_iter_incipient.main_handler(\n",
    "            compobjs=flash_iter_incipient.compobjs, \n",
    "            z=np.asarray([0.25, 0.25, 0.25, 0.25]), \n",
    "            T=273.15 + 15, \n",
    "            P=110,\n",
    "            incipient_calc=True)\n",
    "make_pretty_output(output, flash_iter_incipient)"
   ]
  },
  {
   "cell_type": "code",
   "execution_count": null,
   "metadata": {
    "collapsed": false
   },
   "outputs": [],
   "source": []
  },
  {
   "cell_type": "code",
   "execution_count": 8,
   "metadata": {
    "collapsed": false
   },
   "outputs": [
    {
     "data": {
      "text/plain": [
       "[array([[  9.98380506e-01,   1.89715576e-04,   1.89715576e-04,\n",
       "           8.58137856e-01,   8.61731901e-01],\n",
       "        [  1.14992601e-03,   3.16694770e-01,   3.16694770e-01,\n",
       "           6.59252588e-02,   8.85585429e-02],\n",
       "        [  3.52146776e-04,   3.45692699e-01,   3.45692699e-01,\n",
       "           7.57891813e-02,   1.05835692e-02],\n",
       "        [  1.17421250e-04,   3.37422815e-01,   3.37422815e-01,\n",
       "           1.47704393e-04,   3.91259873e-02]]),\n",
       " array([ 0.        ,  0.        ,  0.70994649,  0.02310967,  0.26694384]),\n",
       " array([[  5.20135928e+03,   1.00000000e+00,   1.00000000e+00,\n",
       "           4.52328664e+03,   4.54223103e+03],\n",
       "        [  3.58882905e-03,   1.00000000e+00,   1.00000000e+00,\n",
       "           2.08166553e-01,   2.79633739e-01],\n",
       "        [  1.00683248e-03,   1.00000000e+00,   1.00000000e+00,\n",
       "           2.19238594e-01,   3.06155416e-02],\n",
       "        [  3.43950487e-04,   1.00000000e+00,   1.00000000e+00,\n",
       "           4.37742756e-04,   1.15955370e-01]]),\n",
       " 6,\n",
       " 5.1892655352641943e-07]"
      ]
     },
     "execution_count": 8,
     "metadata": {},
     "output_type": "execute_result"
    }
   ],
   "source": [
    "output"
   ]
  },
  {
   "cell_type": "code",
   "execution_count": 31,
   "metadata": {
    "collapsed": false
   },
   "outputs": [
    {
     "name": "stdout",
     "output_type": "stream",
     "text": [
      "Calculation considers the following phases:\n",
      "['aqueous', 'vapor', 'lhc', 's1', 's2']\n",
      "\n",
      "The stable phases are:\n",
      "\n",
      "lhc: 0.20001 mol.%\n",
      "\twith 0.00009 mol.% h2o\n",
      "\twith 0.11335 mol.% ch4\n",
      "\twith 0.88657 mol.% c2h6\n",
      "\n",
      "s1: 0.28997 mol.%\n",
      "\twith 0.86194 mol.% h2o\n",
      "\twith 0.03283 mol.% ch4\n",
      "\twith 0.10523 mol.% c2h6\n",
      "\n",
      "vapor: 0.51002 mol.%\n",
      "\twith 0.00009 mol.% h2o\n",
      "\twith 0.11335 mol.% ch4\n",
      "\twith 0.88657 mol.% c2h6\n"
     ]
    }
   ],
   "source": [
    "comps_iter_incipient = ['water', 'methane', 'ethane']\n",
    "flash_iter_incipient = fc.FlashController(components=comps_iter_incipient,\n",
    "                                phases=('aqueous', 'vapor', 'lhc', 's1', 's2'))\n",
    "output = flash_iter_incipient.main_handler(\n",
    "            compobjs=flash_iter_incipient.compobjs, \n",
    "            z=np.asarray([0.25, 0.75*0.12, 0.75*0.88]), \n",
    "            T=273.15 + 6, \n",
    "            P=70,\n",
    "            incipient_calc=True)\n",
    "make_pretty_output(output, flash_iter_incipient)"
   ]
  },
  {
   "cell_type": "code",
   "execution_count": 13,
   "metadata": {
    "collapsed": false
   },
   "outputs": [],
   "source": [
    "import dill as pickle\n",
    "pickle.dump(output, open('c1c3_1comp.pkl', 'wb'))"
   ]
  },
  {
   "cell_type": "code",
   "execution_count": null,
   "metadata": {
    "collapsed": true
   },
   "outputs": [],
   "source": []
  }
 ],
 "metadata": {
  "anaconda-cloud": {},
  "kernelspec": {
   "display_name": "Python [conda root]",
   "language": "python",
   "name": "conda-root-py"
  },
  "language_info": {
   "codemirror_mode": {
    "name": "ipython",
    "version": 3
   },
   "file_extension": ".py",
   "mimetype": "text/x-python",
   "name": "python",
   "nbconvert_exporter": "python",
   "pygments_lexer": "ipython3",
   "version": "3.5.2"
  }
 },
 "nbformat": 4,
 "nbformat_minor": 1
}
