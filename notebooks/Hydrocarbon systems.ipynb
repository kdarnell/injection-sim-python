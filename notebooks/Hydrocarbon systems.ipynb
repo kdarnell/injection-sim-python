{
 "cells": [
  {
   "cell_type": "markdown",
   "metadata": {},
   "source": [
    "# Working through CSMGem examples"
   ]
  },
  {
   "cell_type": "markdown",
   "metadata": {},
   "source": [
    "* Look at a series of compositions and compare the CSMGem output with my output\n",
    "* Primarily targeting the C1, C2, C3 system\n",
    "* P-T conditions for right now are going to be roughly 6C, 70 bar"
   ]
  },
  {
   "cell_type": "code",
   "execution_count": 1,
   "metadata": {
    "collapsed": false
   },
   "outputs": [],
   "source": [
    "import flashalgorithm as fc\n",
    "import component_properties as comp_table\n",
    "import vlhc_srk_eos as hc\n",
    "import aq_hb_eos as aq\n",
    "import h_vdwpm_eos as hyd\n",
    "import numpy as np"
   ]
  },
  {
   "cell_type": "code",
   "execution_count": 2,
   "metadata": {
    "collapsed": true
   },
   "outputs": [],
   "source": [
    "def make_pretty_output(output, flash):\n",
    "    stable_dict = {phase: ii for ii, (phase, alpha) in \n",
    "                   enumerate(zip(flash.phases, flash.alpha_calc)) \n",
    "                   if alpha > 1e-10}\n",
    "    print('Calculation considers the following phases:\\n{0}\\n'.format(flash.phases))\n",
    "    print('The stable phases are:')\n",
    "    for phase, index in stable_dict.items():\n",
    "        print('\\n{0}: {1:3.5f} mol.%'.format(phase, flash.alpha_calc[index]))\n",
    "        for ii, comp in enumerate(flash.compobjs): \n",
    "            print('\\twith {0:3.5f} mol.% {1}'.format(\n",
    "                flash.x_calc[ii, index],\n",
    "                comp.compname))\n",
    "\n"
   ]
  },
  {
   "cell_type": "code",
   "execution_count": 3,
   "metadata": {
    "collapsed": true
   },
   "outputs": [],
   "source": [
    "comps_iter1 = ['water', 'methane']\n",
    "x = np.asarray([0.5, 0.5])\n",
    "P = 70 # bar\n",
    "T = 273.15 + 6 # Kelvin"
   ]
  },
  {
   "cell_type": "code",
   "execution_count": 4,
   "metadata": {
    "collapsed": false
   },
   "outputs": [
    {
     "name": "stdout",
     "output_type": "stream",
     "text": [
      "Calculation considers the following phases:\n",
      "['aqueous', 'vapor', 'lhc', 's1', 's2']\n",
      "\n",
      "The stable phases are:\n",
      "\n",
      "s1: 0.58264 mol.%\n",
      "\twith 0.85802 mol.% h2o\n",
      "\twith 0.14198 mol.% ch4\n",
      "\n",
      "vapor: 0.41736 mol.%\n",
      "\twith 0.00018 mol.% h2o\n",
      "\twith 0.99982 mol.% ch4\n"
     ]
    }
   ],
   "source": [
    "flash_iter1 = fc.FlashController(components=comps_iter1)\n",
    "output = flash_iter1.main_handler(\n",
    "            compobjs=flash_iter1.compobjs, \n",
    "            z=x, \n",
    "            T=T, \n",
    "            P=P)\n",
    "make_pretty_output(output, flash_iter1)"
   ]
  },
  {
   "cell_type": "code",
   "execution_count": 5,
   "metadata": {
    "collapsed": false
   },
   "outputs": [
    {
     "name": "stdout",
     "output_type": "stream",
     "text": [
      "22.1679043155\n",
      "22.2566524253\n",
      "3e-06\n",
      "[ 0.          0.89908583] [ 0.          0.97781486]\n",
      "0.999793021423\n",
      "0.996194760702\n"
     ]
    }
   ],
   "source": [
    "sh = flash_iter1.fug_list[-1]\n",
    "print(sh.hydrate_size(T, P, sh.v_H_0, sh.kappa_func(sh.Y_large)))\n",
    "print(sh.v_H_0)\n",
    "print(sh.kappa_func(sh.Y_large))\n",
    "print(sh.Y_small, sh.Y_large)\n",
    "print(np.exp(-3e-6*(69)))\n",
    "print(np.exp(2.029776e-4*(279.15-298.15) + 1.1851168e-7*(279.15-298.15)**2) + -1.879455e-10*(279.15-298.15)**3)"
   ]
  },
  {
   "cell_type": "code",
   "execution_count": 6,
   "metadata": {
    "collapsed": true
   },
   "outputs": [],
   "source": [
    "comps_iter2 = ['water', 'ethane']"
   ]
  },
  {
   "cell_type": "code",
   "execution_count": 7,
   "metadata": {
    "collapsed": false
   },
   "outputs": [
    {
     "name": "stdout",
     "output_type": "stream",
     "text": [
      "Calculation considers the following phases:\n",
      "['aqueous', 'vapor', 'lhc', 's1', 's2']\n",
      "\n",
      "The stable phases are:\n",
      "\n",
      "lhc: 0.43513 mol.%\n",
      "\twith 0.00008 mol.% h2o\n",
      "\twith 0.99992 mol.% c2h6\n",
      "\n",
      "s1: 0.56487 mol.%\n",
      "\twith 0.88510 mol.% h2o\n",
      "\twith 0.11490 mol.% c2h6\n"
     ]
    }
   ],
   "source": [
    "flash_iter2 = fc.FlashController(components=comps_iter2)\n",
    "output = flash_iter2.main_handler(\n",
    "            compobjs=flash_iter2.compobjs, \n",
    "            z=x, \n",
    "            T=T, \n",
    "            P=P)\n",
    "make_pretty_output(output, flash_iter2)"
   ]
  },
  {
   "cell_type": "code",
   "execution_count": 8,
   "metadata": {
    "collapsed": false
   },
   "outputs": [],
   "source": [
    "comps_iter3 = ['water', 'propane']"
   ]
  },
  {
   "cell_type": "code",
   "execution_count": 9,
   "metadata": {
    "collapsed": false
   },
   "outputs": [
    {
     "name": "stdout",
     "output_type": "stream",
     "text": [
      "Calculation considers the following phases:\n",
      "['aqueous', 'vapor', 'lhc']\n",
      "\n",
      "The stable phases are:\n",
      "\n",
      "lhc: 0.49987 mol.%\n",
      "\twith 0.00011 mol.% h2o\n",
      "\twith 0.99989 mol.% c3h8\n",
      "\n",
      "aqueous: 0.50013 mol.%\n",
      "\twith 0.99964 mol.% h2o\n",
      "\twith 0.00036 mol.% c3h8\n"
     ]
    }
   ],
   "source": [
    "flash_iter3 = fc.FlashController(components=['water', 'propane'],\n",
    "                                phases=('aqueous', 'vapor', 'lhc'))\n",
    "output = flash_iter3.main_handler(\n",
    "            compobjs=flash_iter3.compobjs, \n",
    "            z=x, \n",
    "            T=T, \n",
    "            P=P)\n",
    "make_pretty_output(output, flash_iter3)"
   ]
  },
  {
   "cell_type": "code",
   "execution_count": 10,
   "metadata": {
    "collapsed": false
   },
   "outputs": [
    {
     "name": "stdout",
     "output_type": "stream",
     "text": [
      "Calculation considers the following phases:\n",
      "['aqueous', 'vapor', 'lhc', 's1', 's2']\n",
      "\n",
      "The stable phases are:\n",
      "\n",
      "lhc: 0.47064 mol.%\n",
      "\twith 0.00009 mol.% h2o\n",
      "\twith 0.99991 mol.% c3h8\n",
      "\n",
      "s2: 0.52936 mol.%\n",
      "\twith 0.94446 mol.% h2o\n",
      "\twith 0.05554 mol.% c3h8\n"
     ]
    }
   ],
   "source": [
    "flash_iter4 = fc.FlashController(components=comps_iter3,\n",
    "                                phases=('aqueous', 'vapor', 'lhc', 's1', 's2'))\n",
    "output = flash_iter4.main_handler(\n",
    "            compobjs=flash_iter4.compobjs, \n",
    "            z=x, \n",
    "            T=276.15, \n",
    "            P=P,\n",
    "            incipient_calc=True)\n",
    "make_pretty_output(output, flash_iter4)"
   ]
  },
  {
   "cell_type": "code",
   "execution_count": 11,
   "metadata": {
    "collapsed": false
   },
   "outputs": [
    {
     "data": {
      "text/plain": [
       "{'K_calc': array([[  1.11474717e+04,   1.00000000e+00,   1.00000000e+00,\n",
       "           6.91912031e+03,   1.07549603e+04],\n",
       "        [  3.95594984e-04,   1.00000000e+00,   1.00000000e+00,\n",
       "           2.00391423e-03,   5.55402066e-02]]),\n",
       " 'Nc': 2,\n",
       " 'Np': 5,\n",
       " 'P': 1.0,\n",
       " 'T': 298.15,\n",
       " 'alpha_calc': array([  0.00000000e+00,   1.00000000e-10,   4.70643334e-01,\n",
       "          0.00000000e+00,   5.29356666e-01]),\n",
       " 'completed': True,\n",
       " 'compname': ['h2o', 'c3h8'],\n",
       " 'compobjs': [<component_properties.Component at 0x10cb144e0>,\n",
       "  <component_properties.Component at 0x10cb14550>],\n",
       " 'eos': {'aqueous': 'aqhb',\n",
       "  'ice': 'ice',\n",
       "  'lhc': 'srk',\n",
       "  's1': 'hvdwpm',\n",
       "  's2': 'hvdwpm',\n",
       "  'vapor': 'srk'},\n",
       " 'feed': array([ 0.5,  0.5]),\n",
       " 'fug_list': [<aq_hb_eos.HegBromEos at 0x10cb14518>,\n",
       "  <vlhc_srk_eos.SrkEos at 0x10cb145c0>,\n",
       "  <vlhc_srk_eos.SrkEos at 0x10cb14588>,\n",
       "  <h_vdwpm_eos.HvdwpmEos at 0x10cb144a8>,\n",
       "  <h_vdwpm_eos.HvdwpmEos at 0x10cb146d8>],\n",
       " 'h2oexists': True,\n",
       " 'h2oind': 0,\n",
       " 'hyd_phases': {'s1': 3, 's2': 4},\n",
       " 'iter_output': {},\n",
       " 'monitor': [],\n",
       " 'nonhyd_phases': [0, 1, 2],\n",
       " 'phases': ['aqueous', 'vapor', 'lhc', 's1', 's2'],\n",
       " 'ref_comp': array([  8.78166423e-05,   9.99912183e-01]),\n",
       " 'ref_fug': array([ 0.00830268,  6.05532279]),\n",
       " 'ref_ind': 2,\n",
       " 'ref_phase': 'lhc',\n",
       " 'ref_phase_iter': 0,\n",
       " 'ref_phase_list': ['aqueous', 'lhc'],\n",
       " 'ref_phases_tried': ['vapor'],\n",
       " 'theta_calc': array([  2.08873651e-02,   1.00000000e-10,   0.00000000e+00,\n",
       "          4.94923142e-01,   0.00000000e+00]),\n",
       " 'x_calc': array([[  9.99596091e-01,   8.78166425e-05,   8.78166423e-05,\n",
       "           9.97996262e-01,   9.44464671e-01],\n",
       "        [  4.03909329e-04,   9.99912183e-01,   9.99912183e-01,\n",
       "           2.00373826e-03,   5.55353292e-02]])}"
      ]
     },
     "execution_count": 11,
     "metadata": {},
     "output_type": "execute_result"
    }
   ],
   "source": [
    "flash_iter4.__dict__"
   ]
  },
  {
   "cell_type": "code",
   "execution_count": 12,
   "metadata": {
    "collapsed": false
   },
   "outputs": [
    {
     "name": "stdout",
     "output_type": "stream",
     "text": [
      "Calculation considers the following phases:\n",
      "['aqueous', 'vapor', 'lhc', 's1', 's2']\n",
      "\n",
      "The stable phases are:\n",
      "\n",
      "lhc: 0.41669 mol.%\n",
      "\twith 0.00014 mol.% h2o\n",
      "\twith 0.52626 mol.% ch4\n",
      "\twith 0.47360 mol.% c2h6\n",
      "\n",
      "s1: 0.58331 mol.%\n",
      "\twith 0.85708 mol.% h2o\n",
      "\twith 0.05265 mol.% ch4\n",
      "\twith 0.09027 mol.% c2h6\n"
     ]
    }
   ],
   "source": [
    "comps_iteralt = ['water', 'methane', 'ethane']\n",
    "flash_iteralt = fc.FlashController(components=comps_iteralt,\n",
    "                                phases=('aqueous', 'vapor', 'lhc', 's1', 's2'))\n",
    "output = flash_iteralt.main_handler(\n",
    "            compobjs=flash_iteralt.compobjs, \n",
    "            z=np.asarray([0.5, 0.25, 0.25]), \n",
    "            T=279.15, \n",
    "            P=P)\n",
    "make_pretty_output(output, flash_iteralt)"
   ]
  },
  {
   "cell_type": "code",
   "execution_count": 13,
   "metadata": {
    "collapsed": false
   },
   "outputs": [
    {
     "name": "stdout",
     "output_type": "stream",
     "text": [
      "Calculation considers the following phases:\n",
      "['aqueous', 'vapor', 'lhc', 's1', 's2']\n",
      "\n",
      "The stable phases are:\n",
      "\n",
      "lhc: 0.37484 mol.%\n",
      "\twith 0.00011 mol.% h2o\n",
      "\twith 0.42992 mol.% ch4\n",
      "\twith 0.56997 mol.% c3h8\n",
      "\n",
      "vapor: 0.04236 mol.%\n",
      "\twith 0.00015 mol.% h2o\n",
      "\twith 0.82140 mol.% ch4\n",
      "\twith 0.17845 mol.% c3h8\n",
      "\n",
      "s2: 0.58281 mol.%\n",
      "\twith 0.85784 mol.% h2o\n",
      "\twith 0.09276 mol.% ch4\n",
      "\twith 0.04941 mol.% c3h8\n"
     ]
    }
   ],
   "source": [
    "comps_iter5 = ['water', 'methane', 'propane']\n",
    "flash_iter5 = fc.FlashController(components=comps_iter5,\n",
    "                                phases=('aqueous', 'vapor', 'lhc', 's1', 's2'))\n",
    "output = flash_iter5.main_handler(\n",
    "            compobjs=flash_iter5.compobjs, \n",
    "            z=np.asarray([0.5, 0.25, 0.25]), \n",
    "            T=T, \n",
    "            P=P,\n",
    "            incipient_calc=True)\n",
    "make_pretty_output(output, flash_iter5)"
   ]
  },
  {
   "cell_type": "code",
   "execution_count": 14,
   "metadata": {
    "collapsed": false
   },
   "outputs": [
    {
     "data": {
      "text/plain": [
       "{'K_calc': array([[  7.39032718e+03,   1.41755172e+00,   1.00000000e+00,\n",
       "           6.52071424e+03,   8.10682617e+03],\n",
       "        [  3.96247307e-03,   1.91057954e+00,   1.00000000e+00,\n",
       "           3.27747873e-01,   2.15748169e-01],\n",
       "        [  4.07541962e-04,   3.13084487e-01,   1.00000000e+00,\n",
       "           1.06710495e-04,   8.66852751e-02]]),\n",
       " 'Nc': 3,\n",
       " 'Np': 5,\n",
       " 'P': 1.0,\n",
       " 'T': 298.15,\n",
       " 'alpha_calc': array([ 0.        ,  0.04235582,  0.37483646,  0.        ,  0.58280772]),\n",
       " 'completed': True,\n",
       " 'compname': ['h2o', 'ch4', 'c3h8'],\n",
       " 'compobjs': [<component_properties.Component at 0x10cb21470>,\n",
       "  <component_properties.Component at 0x10cb214e0>,\n",
       "  <component_properties.Component at 0x10cb21518>],\n",
       " 'eos': {'aqueous': 'aqhb',\n",
       "  'ice': 'ice',\n",
       "  'lhc': 'srk',\n",
       "  's1': 'hvdwpm',\n",
       "  's2': 'hvdwpm',\n",
       "  'vapor': 'srk'},\n",
       " 'feed': array([ 0.5 ,  0.25,  0.25]),\n",
       " 'fug_list': [<aq_hb_eos.HegBromEos at 0x10cb21550>,\n",
       "  <vlhc_srk_eos.SrkEos at 0x10cb21588>,\n",
       "  <vlhc_srk_eos.SrkEos at 0x10cb215c0>,\n",
       "  <h_vdwpm_eos.HvdwpmEos at 0x10cb215f8>,\n",
       "  <h_vdwpm_eos.HvdwpmEos at 0x10cb21668>],\n",
       " 'h2oexists': True,\n",
       " 'h2oind': 0,\n",
       " 'hyd_phases': {'s1': 3, 's2': 4},\n",
       " 'iter_output': {},\n",
       " 'monitor': [],\n",
       " 'nonhyd_phases': [0, 1, 2],\n",
       " 'phases': ['aqueous', 'vapor', 'lhc', 's1', 's2'],\n",
       " 'ref_comp': array([  1.05816663e-04,   4.29922563e-01,   5.69971620e-01]),\n",
       " 'ref_fug': array([  8.17087797e-03,   5.12901014e+01,   4.19046581e+00]),\n",
       " 'ref_ind': 2,\n",
       " 'ref_phase': 'lhc',\n",
       " 'ref_phase_iter': 0,\n",
       " 'ref_phase_list': ['aqueous', 'lhc'],\n",
       " 'ref_phases_tried': ['vapor'],\n",
       " 'theta_calc': array([ 0.24340336,  0.        ,  0.        ,  0.18516544,  0.        ]),\n",
       " 'x_calc': array([[  9.97530672e-01,   1.50000517e-04,   1.05816663e-04,\n",
       "           8.59032973e-01,   8.57836848e-01],\n",
       "        [  2.17302620e-03,   8.21400583e-01,   4.29922563e-01,\n",
       "           1.40906206e-01,   9.27550057e-02],\n",
       "        [  2.96301978e-04,   1.78449416e-01,   5.69971620e-01,\n",
       "           6.08219537e-05,   4.94081467e-02]])}"
      ]
     },
     "execution_count": 14,
     "metadata": {},
     "output_type": "execute_result"
    }
   ],
   "source": [
    "flash_iter5.__dict__"
   ]
  },
  {
   "cell_type": "code",
   "execution_count": 15,
   "metadata": {
    "collapsed": false
   },
   "outputs": [
    {
     "name": "stdout",
     "output_type": "stream",
     "text": [
      "Calculation considers the following phases:\n",
      "['aqueous', 'vapor', 'lhc', 's1', 's2']\n",
      "\n",
      "The stable phases are:\n",
      "\n",
      "lhc: 0.70958 mol.%\n",
      "\twith 0.00010 mol.% h2o\n",
      "\twith 0.31561 mol.% ch4\n",
      "\twith 0.34809 mol.% c2h6\n",
      "\twith 0.33619 mol.% c3h8\n",
      "\n",
      "s2: 0.29042 mol.%\n",
      "\twith 0.86059 mol.% h2o\n",
      "\twith 0.08968 mol.% ch4\n",
      "\twith 0.01032 mol.% c2h6\n",
      "\twith 0.03941 mol.% c3h8\n"
     ]
    }
   ],
   "source": [
    "comps_iter6 = ['water', 'methane', 'ethane', 'propane']\n",
    "flash_iter6 = fc.FlashController(components=comps_iter6,\n",
    "                                phases=('aqueous', 'vapor', 'lhc', 's1', 's2'))\n",
    "output = flash_iter6.main_handler(\n",
    "            compobjs=flash_iter6.compobjs, \n",
    "            z=np.asarray([0.25, 0.25, 0.25, 0.25]), \n",
    "            T=T, \n",
    "            P=P,\n",
    "            incipient_calc=True)\n",
    "make_pretty_output(output, flash_iter6)"
   ]
  },
  {
   "cell_type": "code",
   "execution_count": 16,
   "metadata": {
    "collapsed": false
   },
   "outputs": [
    {
     "data": {
      "text/plain": [
       "[array([[  9.97875473e-01,   1.01331977e-04,   1.01331977e-04,\n",
       "           8.57503927e-01,   8.60586448e-01],\n",
       "        [  1.48323112e-03,   3.15614112e-01,   3.15614112e-01,\n",
       "           6.58240066e-02,   8.96827701e-02],\n",
       "        [  4.72403396e-04,   3.48094526e-01,   3.48094526e-01,\n",
       "           7.65662318e-02,   1.03220609e-02],\n",
       "        [  1.68892610e-04,   3.36190030e-01,   3.36190031e-01,\n",
       "           1.05834515e-04,   3.94087206e-02]]),\n",
       " array([  0.00000000e+00,   1.00000000e-10,   7.09584003e-01,\n",
       "          0.00000000e+00,   2.90415997e-01]),\n",
       " array([[  8.12342313e+03,   1.00000000e+00,   1.00000000e+00,\n",
       "           7.84727225e+03,   8.49274646e+03],\n",
       "        [  3.87669571e-03,   1.00000000e+00,   1.00000000e+00,\n",
       "           2.08558503e-01,   2.84153233e-01],\n",
       "        [  1.11950200e-03,   1.00000000e+00,   1.00000000e+00,\n",
       "           2.19958161e-01,   2.96530399e-02],\n",
       "        [  4.14414289e-04,   1.00000000e+00,   1.00000000e+00,\n",
       "           3.14805631e-04,   1.17221562e-01]]),\n",
       " 6,\n",
       " 8.3109844171219698e-07]"
      ]
     },
     "execution_count": 16,
     "metadata": {},
     "output_type": "execute_result"
    }
   ],
   "source": [
    "output"
   ]
  },
  {
   "cell_type": "code",
   "execution_count": 17,
   "metadata": {
    "collapsed": false
   },
   "outputs": [
    {
     "data": {
      "text/plain": [
       "{'K_calc': array([[  8.12342313e+03,   1.00000000e+00,   1.00000000e+00,\n",
       "           7.84727225e+03,   8.49274646e+03],\n",
       "        [  3.87669571e-03,   1.00000000e+00,   1.00000000e+00,\n",
       "           2.08558503e-01,   2.84153233e-01],\n",
       "        [  1.11950200e-03,   1.00000000e+00,   1.00000000e+00,\n",
       "           2.19958161e-01,   2.96530399e-02],\n",
       "        [  4.14414289e-04,   1.00000000e+00,   1.00000000e+00,\n",
       "           3.14805631e-04,   1.17221562e-01]]),\n",
       " 'Nc': 4,\n",
       " 'Np': 5,\n",
       " 'P': 1.0,\n",
       " 'T': 298.15,\n",
       " 'alpha_calc': array([  0.00000000e+00,   1.00000000e-10,   7.09584003e-01,\n",
       "          0.00000000e+00,   2.90415997e-01]),\n",
       " 'completed': True,\n",
       " 'compname': ['h2o', 'ch4', 'c2h6', 'c3h8'],\n",
       " 'compobjs': [<component_properties.Component at 0x10cb21c88>,\n",
       "  <component_properties.Component at 0x10cb21da0>,\n",
       "  <component_properties.Component at 0x10cb21978>,\n",
       "  <component_properties.Component at 0x10cb21cc0>],\n",
       " 'eos': {'aqueous': 'aqhb',\n",
       "  'ice': 'ice',\n",
       "  'lhc': 'srk',\n",
       "  's1': 'hvdwpm',\n",
       "  's2': 'hvdwpm',\n",
       "  'vapor': 'srk'},\n",
       " 'feed': array([ 0.25,  0.25,  0.25,  0.25]),\n",
       " 'fug_list': [<aq_hb_eos.HegBromEos at 0x10cb21b70>,\n",
       "  <vlhc_srk_eos.SrkEos at 0x10cb21c18>,\n",
       "  <vlhc_srk_eos.SrkEos at 0x10cb219b0>,\n",
       "  <h_vdwpm_eos.HvdwpmEos at 0x10cb219e8>,\n",
       "  <h_vdwpm_eos.HvdwpmEos at 0x10cb00f28>],\n",
       " 'h2oexists': True,\n",
       " 'h2oind': 0,\n",
       " 'hyd_phases': {'s1': 3, 's2': 4},\n",
       " 'iter_output': {},\n",
       " 'monitor': [],\n",
       " 'nonhyd_phases': [0, 1, 2],\n",
       " 'phases': ['aqueous', 'vapor', 'lhc', 's1', 's2'],\n",
       " 'ref_comp': array([  1.01331977e-04,   3.15614112e-01,   3.48094526e-01,\n",
       "          3.36190031e-01]),\n",
       " 'ref_fug': array([  8.60076212e-03,   3.68251930e+01,   8.50930532e+00,\n",
       "          2.51250075e+00]),\n",
       " 'ref_ind': 2,\n",
       " 'ref_phase': 'lhc',\n",
       " 'ref_phase_iter': 0,\n",
       " 'ref_phase_list': ['aqueous', 'lhc'],\n",
       " 'ref_phases_tried': ['vapor'],\n",
       " 'theta_calc': array([  1.92475193e-01,   1.00000000e-10,   0.00000000e+00,\n",
       "          6.43514823e-02,   0.00000000e+00]),\n",
       " 'x_calc': array([[  9.97875473e-01,   1.01331977e-04,   1.01331977e-04,\n",
       "           8.57503927e-01,   8.60586448e-01],\n",
       "        [  1.48323112e-03,   3.15614112e-01,   3.15614112e-01,\n",
       "           6.58240066e-02,   8.96827701e-02],\n",
       "        [  4.72403396e-04,   3.48094526e-01,   3.48094526e-01,\n",
       "           7.65662318e-02,   1.03220609e-02],\n",
       "        [  1.68892610e-04,   3.36190030e-01,   3.36190031e-01,\n",
       "           1.05834515e-04,   3.94087206e-02]])}"
      ]
     },
     "execution_count": 17,
     "metadata": {},
     "output_type": "execute_result"
    }
   ],
   "source": [
    "flash_iter6.__dict__"
   ]
  },
  {
   "cell_type": "code",
   "execution_count": 18,
   "metadata": {
    "collapsed": false
   },
   "outputs": [
    {
     "name": "stdout",
     "output_type": "stream",
     "text": [
      "Calculation considers the following phases:\n",
      "['aqueous', 'vapor', 'lhc', 's1', 's2']\n",
      "\n",
      "The stable phases are:\n",
      "\n",
      "lhc: 0.05622 mol.%\n",
      "\twith 0.00010 mol.% h2o\n",
      "\twith 0.17695 mol.% ch4\n",
      "\twith 0.58391 mol.% c2h6\n",
      "\twith 0.23905 mol.% c3h8\n",
      "\n",
      "s1: 0.58181 mol.%\n",
      "\twith 0.85932 mol.% h2o\n",
      "\twith 0.04469 mol.% ch4\n",
      "\twith 0.09594 mol.% c2h6\n",
      "\twith 0.00006 mol.% c3h8\n",
      "\n",
      "vapor: 0.36196 mol.%\n",
      "\twith 0.00010 mol.% h2o\n",
      "\twith 0.17695 mol.% ch4\n",
      "\twith 0.58391 mol.% c2h6\n",
      "\twith 0.23905 mol.% c3h8\n"
     ]
    }
   ],
   "source": [
    "comps_iter7 = ['water', 'methane', 'ethane', 'propane']\n",
    "flash_iter7 = fc.FlashController(components=comps_iter7,\n",
    "                                phases=('aqueous', 'vapor', 'lhc', 's1', 's2'))\n",
    "output = flash_iter7.main_handler(\n",
    "            compobjs=flash_iter7.compobjs, \n",
    "            z=np.asarray([0.5, 0.1, 0.3, 0.1]), \n",
    "            T=T, \n",
    "            P=P,\n",
    "            incipient_calc=True)\n",
    "make_pretty_output(output, flash_iter7)"
   ]
  },
  {
   "cell_type": "code",
   "execution_count": 19,
   "metadata": {
    "collapsed": false
   },
   "outputs": [
    {
     "name": "stdout",
     "output_type": "stream",
     "text": [
      "Calculation considers the following phases:\n",
      "['aqueous', 'vapor', 'lhc', 's1', 's2']\n",
      "\n",
      "The stable phases are:\n",
      "\n",
      "lhc: 0.36673 mol.%\n",
      "\twith 0.00012 mol.% h2o\n",
      "\twith 0.40568 mol.% ch4\n",
      "\twith 0.50804 mol.% c2h6\n",
      "\twith 0.08615 mol.% c3h8\n",
      "\n",
      "vapor: 0.14547 mol.%\n",
      "\twith 0.00014 mol.% h2o\n",
      "\twith 0.49429 mol.% ch4\n",
      "\twith 0.44632 mol.% c2h6\n",
      "\twith 0.05925 mol.% c3h8\n",
      "\n",
      "s2: 0.48780 mol.%\n",
      "\twith 0.86304 mol.% h2o\n",
      "\twith 0.08708 mol.% ch4\n",
      "\twith 0.02443 mol.% c2h6\n",
      "\twith 0.02546 mol.% c3h8\n"
     ]
    }
   ],
   "source": [
    "comps_iter8 = ['water', 'methane', 'ethane', 'propane']\n",
    "flash_iter8 = fc.FlashController(components=comps_iter8,\n",
    "                                phases=('aqueous', 'vapor', 'lhc', 's1', 's2'))\n",
    "output = flash_iter8.main_handler(\n",
    "            compobjs=flash_iter8.compobjs, \n",
    "            z=np.asarray([0.4, 0.25, 0.25, 0.05]), \n",
    "            T=279.15, \n",
    "            P=P)\n",
    "make_pretty_output(output, flash_iter8)"
   ]
  },
  {
   "cell_type": "code",
   "execution_count": 20,
   "metadata": {
    "collapsed": false
   },
   "outputs": [
    {
     "data": {
      "text/plain": [
       "{'K_calc': array([[  7.18822329e+03,   1.15760676e+00,   1.00000000e+00,\n",
       "           7.25393943e+03,   7.30792348e+03],\n",
       "        [  2.93005095e-03,   1.21841449e+00,   1.00000000e+00,\n",
       "           1.23534490e-01,   2.14651612e-01],\n",
       "        [  1.22749554e-03,   8.78513362e-01,   1.00000000e+00,\n",
       "           1.80880156e-01,   4.80817126e-02],\n",
       "        [  5.82419477e-04,   6.87717464e-01,   1.00000000e+00,\n",
       "           4.07939438e-04,   2.95457484e-01]]),\n",
       " 'Nc': 4,\n",
       " 'Np': 5,\n",
       " 'P': 1.0,\n",
       " 'T': 298.15,\n",
       " 'alpha_calc': array([ 0.        ,  0.14547135,  0.36672866,  0.        ,  0.48779999]),\n",
       " 'completed': True,\n",
       " 'compname': ['h2o', 'ch4', 'c2h6', 'c3h8'],\n",
       " 'compobjs': [<component_properties.Component at 0x10cb21908>,\n",
       "  <component_properties.Component at 0x10cb21080>,\n",
       "  <component_properties.Component at 0x10cb21b00>,\n",
       "  <component_properties.Component at 0x10fe4a048>],\n",
       " 'eos': {'aqueous': 'aqhb',\n",
       "  'ice': 'ice',\n",
       "  'lhc': 'srk',\n",
       "  's1': 'hvdwpm',\n",
       "  's2': 'hvdwpm',\n",
       "  'vapor': 'srk'},\n",
       " 'feed': array([ 0.42105263,  0.26315789,  0.26315789,  0.05263158]),\n",
       " 'fug_list': [<aq_hb_eos.HegBromEos at 0x10fe4a080>,\n",
       "  <vlhc_srk_eos.SrkEos at 0x10fe4a0b8>,\n",
       "  <vlhc_srk_eos.SrkEos at 0x10fe4a0f0>,\n",
       "  <h_vdwpm_eos.HvdwpmEos at 0x10fe4a128>,\n",
       "  <h_vdwpm_eos.HvdwpmEos at 0x106779a90>],\n",
       " 'h2oexists': True,\n",
       " 'h2oind': 0,\n",
       " 'hyd_phases': {'s1': 3, 's2': 4},\n",
       " 'iter_output': {},\n",
       " 'monitor': [],\n",
       " 'nonhyd_phases': [0, 1, 2],\n",
       " 'phases': ['aqueous', 'vapor', 'lhc', 's1', 's2'],\n",
       " 'ref_comp': array([  1.18096205e-04,   4.05682393e-01,   5.08044888e-01,\n",
       "          8.61546231e-02]),\n",
       " 'ref_fug': array([  8.86969696e-03,   3.57780258e+01,   1.36182777e+01,\n",
       "          9.04959746e-01]),\n",
       " 'ref_ind': 2,\n",
       " 'ref_phase': 'lhc',\n",
       " 'ref_phase_iter': 0,\n",
       " 'ref_phase_list': ['aqueous', 'lhc'],\n",
       " 'ref_phases_tried': ['vapor'],\n",
       " 'theta_calc': array([  1.61621300e-01,   0.00000000e+00,   1.00000000e-10,\n",
       "          1.29300938e-03,   0.00000000e+00]),\n",
       " 'x_calc': array([[  9.97810825e-01,   1.36708795e-04,   1.18096205e-04,\n",
       "           8.57953848e-01,   8.63036924e-01],\n",
       "        [  1.39717832e-03,   4.94288455e-01,   4.05682393e-01,\n",
       "           5.01157674e-02,   8.70803796e-02],\n",
       "        [  7.33016300e-04,   4.46324631e-01,   5.08044888e-01,\n",
       "           9.18952388e-02,   2.44276683e-02],\n",
       "        [  5.89802896e-05,   5.92502058e-02,   8.61546231e-02,\n",
       "           3.51458685e-05,   2.54550281e-02]])}"
      ]
     },
     "execution_count": 20,
     "metadata": {},
     "output_type": "execute_result"
    }
   ],
   "source": [
    "flash_iter8.__dict__"
   ]
  },
  {
   "cell_type": "code",
   "execution_count": 21,
   "metadata": {
    "collapsed": false
   },
   "outputs": [
    {
     "data": {
      "text/plain": [
       "[array([[  9.97810825e-01,   1.36708795e-04,   1.18096205e-04,\n",
       "           8.57953848e-01,   8.63036924e-01],\n",
       "        [  1.39717832e-03,   4.94288455e-01,   4.05682393e-01,\n",
       "           5.01157674e-02,   8.70803796e-02],\n",
       "        [  7.33016300e-04,   4.46324631e-01,   5.08044888e-01,\n",
       "           9.18952388e-02,   2.44276683e-02],\n",
       "        [  5.89802896e-05,   5.92502058e-02,   8.61546231e-02,\n",
       "           3.51458685e-05,   2.54550281e-02]]),\n",
       " array([ 0.        ,  0.14547135,  0.36672866,  0.        ,  0.48779999]),\n",
       " array([[  7.18822329e+03,   1.15760676e+00,   1.00000000e+00,\n",
       "           7.25393943e+03,   7.30792348e+03],\n",
       "        [  2.93005095e-03,   1.21841449e+00,   1.00000000e+00,\n",
       "           1.23534490e-01,   2.14651612e-01],\n",
       "        [  1.22749554e-03,   8.78513362e-01,   1.00000000e+00,\n",
       "           1.80880156e-01,   4.80817126e-02],\n",
       "        [  5.82419477e-04,   6.87717464e-01,   1.00000000e+00,\n",
       "           4.07939438e-04,   2.95457484e-01]]),\n",
       " 68,\n",
       " 9.9478354983891872e-07]"
      ]
     },
     "execution_count": 21,
     "metadata": {},
     "output_type": "execute_result"
    }
   ],
   "source": [
    "output"
   ]
  },
  {
   "cell_type": "code",
   "execution_count": 22,
   "metadata": {
    "collapsed": false
   },
   "outputs": [],
   "source": [
    "output = flash_iter8.main_handler(\n",
    "            compobjs=flash_iter8.compobjs, \n",
    "            z=np.asarray([0.44, 0.25, 0.25, 0.06]), \n",
    "            T=279.15, \n",
    "            P=P)"
   ]
  },
  {
   "cell_type": "code",
   "execution_count": 23,
   "metadata": {
    "collapsed": false
   },
   "outputs": [
    {
     "data": {
      "text/plain": [
       "[array([[  9.97797433e-01,   1.38246506e-04,   1.16368170e-04,\n",
       "           8.57107735e-01,   8.60721642e-01],\n",
       "        [  1.42598698e-03,   5.10293123e-01,   4.03233032e-01,\n",
       "           5.64602907e-02,   9.00007183e-02],\n",
       "        [  7.09212505e-04,   4.24509175e-01,   4.95129644e-01,\n",
       "           8.63999347e-02,   2.44127691e-02],\n",
       "        [  6.73674204e-05,   6.50594550e-02,   1.01520955e-01,\n",
       "           3.20396715e-05,   2.48648703e-02]]),\n",
       " array([ 0.        ,  0.064168  ,  0.42470081,  0.        ,  0.51113119]),\n",
       " array([[  7.26461008e+03,   1.18801140e+00,   1.00000000e+00,\n",
       "           7.30390771e+03,   7.39654426e+03],\n",
       "        [  2.99615114e-03,   1.26550678e+00,   1.00000000e+00,\n",
       "           1.40019012e-01,   2.23197782e-01],\n",
       "        [  1.21355941e-03,   8.57368611e-01,   1.00000000e+00,\n",
       "           1.74499620e-01,   4.93058120e-02],\n",
       "        [  5.62208401e-04,   6.40845116e-01,   1.00000000e+00,\n",
       "           3.15596632e-04,   2.44923526e-01]]),\n",
       " 54,\n",
       " 9.8120718264070655e-07]"
      ]
     },
     "execution_count": 23,
     "metadata": {},
     "output_type": "execute_result"
    }
   ],
   "source": [
    "output"
   ]
  },
  {
   "cell_type": "code",
   "execution_count": 24,
   "metadata": {
    "collapsed": false
   },
   "outputs": [
    {
     "name": "stdout",
     "output_type": "stream",
     "text": [
      "Calculation considers the following phases:\n",
      "['aqueous', 'vapor', 'lhc', 's1', 's2']\n",
      "\n",
      "The stable phases are:\n",
      "\n",
      "lhc: 0.42470 mol.%\n",
      "\twith 0.00012 mol.% h2o\n",
      "\twith 0.40323 mol.% ch4\n",
      "\twith 0.49513 mol.% c2h6\n",
      "\twith 0.10152 mol.% c3h8\n",
      "\n",
      "vapor: 0.06417 mol.%\n",
      "\twith 0.00014 mol.% h2o\n",
      "\twith 0.51029 mol.% ch4\n",
      "\twith 0.42451 mol.% c2h6\n",
      "\twith 0.06506 mol.% c3h8\n",
      "\n",
      "s2: 0.51113 mol.%\n",
      "\twith 0.86072 mol.% h2o\n",
      "\twith 0.09000 mol.% ch4\n",
      "\twith 0.02441 mol.% c2h6\n",
      "\twith 0.02486 mol.% c3h8\n"
     ]
    }
   ],
   "source": [
    "make_pretty_output(output, flash_iter8)"
   ]
  },
  {
   "cell_type": "code",
   "execution_count": 25,
   "metadata": {
    "collapsed": false
   },
   "outputs": [
    {
     "name": "stdout",
     "output_type": "stream",
     "text": [
      "Calculation considers the following phases:\n",
      "['vapor', 'lhc']\n",
      "\n",
      "The stable phases are:\n",
      "\n",
      "lhc: 0.82119 mol.%\n",
      "\twith 0.42999 mol.% ch4\n",
      "\twith 0.57001 mol.% c3h8\n",
      "\n",
      "vapor: 0.17881 mol.%\n",
      "\twith 0.82154 mol.% ch4\n",
      "\twith 0.17846 mol.% c3h8\n"
     ]
    }
   ],
   "source": [
    "comps_iter9 = ['methane', 'propane']\n",
    "flash_iter9 = fc.FlashController(components=comps_iter9,\n",
    "                                phases=('aqueous', 'vapor', 'lhc', 's1', 's2'))\n",
    "output = flash_iter9.main_handler(\n",
    "            compobjs=flash_iter9.compobjs, \n",
    "            z=np.asarray([0.5, 0.5]), \n",
    "            T=T, \n",
    "            P=P)\n",
    "make_pretty_output(output, flash_iter9)"
   ]
  },
  {
   "cell_type": "code",
   "execution_count": 26,
   "metadata": {
    "collapsed": false
   },
   "outputs": [
    {
     "name": "stdout",
     "output_type": "stream",
     "text": [
      "Calculation considers the following phases:\n",
      "['vapor', 'lhc']\n",
      "\n",
      "The stable phases are:\n",
      "\n",
      "lhc: 0.65211 mol.%\n",
      "\twith 0.40863 mol.% ch4\n",
      "\twith 0.27580 mol.% c2h6\n",
      "\twith 0.31557 mol.% c3h8\n",
      "\n",
      "vapor: 0.34789 mol.%\n",
      "\twith 0.67127 mol.% ch4\n",
      "\twith 0.20164 mol.% c2h6\n",
      "\twith 0.12709 mol.% c3h8\n"
     ]
    }
   ],
   "source": [
    "comps_iter10 = ['methane', 'ethane', 'propane']\n",
    "flash_iter10 = fc.FlashController(components=comps_iter10,\n",
    "                                phases=('aqueous', 'vapor', 'lhc', 's1', 's2'))\n",
    "output = flash_iter10.main_handler(\n",
    "            compobjs=flash_iter10.compobjs, \n",
    "            z=np.asarray([0.5, 0.25, 0.25]), \n",
    "            T=T, \n",
    "            P=P)\n",
    "make_pretty_output(output, flash_iter10)"
   ]
  },
  {
   "cell_type": "code",
   "execution_count": 27,
   "metadata": {
    "collapsed": false,
    "scrolled": true
   },
   "outputs": [
    {
     "name": "stdout",
     "output_type": "stream",
     "text": [
      "Calculation considers the following phases:\n",
      "['aqueous', 'vapor', 'lhc', 's1', 's2']\n",
      "\n",
      "The stable phases are:\n",
      "\n",
      "lhc: 0.70958 mol.%\n",
      "\twith 0.00010 mol.% h2o\n",
      "\twith 0.31561 mol.% ch4\n",
      "\twith 0.34809 mol.% c2h6\n",
      "\twith 0.33619 mol.% c3h8\n",
      "\n",
      "s2: 0.29042 mol.%\n",
      "\twith 0.86059 mol.% h2o\n",
      "\twith 0.08968 mol.% ch4\n",
      "\twith 0.01032 mol.% c2h6\n",
      "\twith 0.03941 mol.% c3h8\n"
     ]
    }
   ],
   "source": [
    "comps_iter_incipient = ['water', 'methane', 'ethane', 'propane']\n",
    "flash_iter_incipient = fc.FlashController(components=comps_iter_incipient,\n",
    "                                phases=('aqueous', 'vapor', 'lhc', 's1', 's2'))\n",
    "output = flash_iter_incipient.main_handler(\n",
    "            compobjs=flash_iter_incipient.compobjs, \n",
    "            z=np.asarray([0.25, 0.25, 0.25, 0.25]), \n",
    "            T=T, \n",
    "            P=P,\n",
    "            incipient_calc=True)\n",
    "make_pretty_output(output, flash_iter_incipient)"
   ]
  },
  {
   "cell_type": "code",
   "execution_count": 28,
   "metadata": {
    "collapsed": false
   },
   "outputs": [
    {
     "name": "stdout",
     "output_type": "stream",
     "text": [
      "Calculation considers the following phases:\n",
      "['aqueous', 'lhc', 's1', 's2']\n",
      "\n",
      "The stable phases are:\n",
      "\n",
      "lhc: 0.89420 mol.%\n",
      "\twith 0.00009 mol.% h2o\n",
      "\twith 0.99991 mol.% c3h8\n",
      "\n",
      "s2: 0.10580 mol.%\n",
      "\twith 0.94447 mol.% h2o\n",
      "\twith 0.05553 mol.% c3h8\n"
     ]
    }
   ],
   "source": [
    "comps_iter_c3 = ['water', 'propane']\n",
    "flash_iter_c3 = fc.FlashController(components=comps_iter_c3,\n",
    "                                phases=('aqueous', 'lhc','s1', 's2'))\n",
    "output = flash_iter_c3.main_handler(\n",
    "            compobjs=flash_iter_c3.compobjs, \n",
    "            z=np.asarray([0.1, 0.9]), \n",
    "            T=273.15+2, \n",
    "            P=40,\n",
    "            incipient_calc=True)\n",
    "make_pretty_output(output, flash_iter_c3)"
   ]
  },
  {
   "cell_type": "code",
   "execution_count": 29,
   "metadata": {
    "collapsed": false
   },
   "outputs": [
    {
     "data": {
      "text/plain": [
       "[array([[  9.99593593e-01,   8.54215080e-05,   9.98115327e-01,\n",
       "           9.44466290e-01],\n",
       "        [  4.06406673e-04,   9.99914578e-01,   1.88467306e-03,\n",
       "           5.55337101e-02]]),\n",
       " array([ 0.        ,  0.89420097,  0.        ,  0.10579903]),\n",
       " array([[  1.13412813e+04,   1.00000000e+00,   7.13793093e+03,\n",
       "           1.10565367e+04],\n",
       "        [  3.93916347e-04,   1.00000000e+00,   1.88483407e-03,\n",
       "           5.55384543e-02]]),\n",
       " 3,\n",
       " 2.2065232645650407e-07]"
      ]
     },
     "execution_count": 29,
     "metadata": {},
     "output_type": "execute_result"
    }
   ],
   "source": [
    "output"
   ]
  },
  {
   "cell_type": "code",
   "execution_count": null,
   "metadata": {
    "collapsed": true
   },
   "outputs": [],
   "source": []
  }
 ],
 "metadata": {
  "anaconda-cloud": {},
  "kernelspec": {
   "display_name": "Python [conda root]",
   "language": "python",
   "name": "conda-root-py"
  },
  "language_info": {
   "codemirror_mode": {
    "name": "ipython",
    "version": 3
   },
   "file_extension": ".py",
   "mimetype": "text/x-python",
   "name": "python",
   "nbconvert_exporter": "python",
   "pygments_lexer": "ipython3",
   "version": "3.5.2"
  }
 },
 "nbformat": 4,
 "nbformat_minor": 1
}
