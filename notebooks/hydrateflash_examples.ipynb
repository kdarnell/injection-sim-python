{
 "cells": [
  {
   "cell_type": "markdown",
   "metadata": {},
   "source": [
    "# Example notebook for hydrateflash\n",
    "Date: August 13, 2017  \n",
    "Author: Kristopher N. Darnell  \n",
    "\n",
    "This notebook is as an example of using the hydratefalsh software.  \n",
    "Over the coming months, this project may grow."
   ]
  },
  {
   "cell_type": "markdown",
   "metadata": {},
   "source": [
    "## Components\n",
    "\n",
    "* The elementary part of this code is a thermodynamic basis for computation, which consists of:  \n",
    "  1. composition in mole fraction\n",
    "  2. pressure in bar  \n",
    "  3. temperature in Kelvin\n",
    "* At present, pressure and temperature take fixed units of bar and Kelvin, respectively.\n",
    "* Composition is defined as a list and then converted into instances of specific components. \n",
    "* See example below."
   ]
  },
  {
   "cell_type": "code",
   "execution_count": 1,
   "metadata": {
    "collapsed": false
   },
   "outputs": [
    {
     "name": "stdout",
     "output_type": "stream",
     "text": [
      "h2o: Tc=647.3 K, Pc=220.5 bar, MW=18.0 g/mol\n",
      "n2 : Tc=126.2 K, Pc= 34.0 bar, MW=28.0 g/mol\n",
      "co2: Tc=304.2 K, Pc= 73.8 bar, MW=44.0 g/mol\n"
     ]
    }
   ],
   "source": [
    "import component_properties as comp_table\n",
    "\n",
    "comps = ['h2o', 'n2', 'co2']\n",
    "comp_list = [comp_table.Component(ii) for ii in comps]\n",
    "for comp in comp_list:\n",
    "    print('{0:3s}: Tc={1:5.1f} K, Pc={2:5.1f} bar, MW={3:3.1f} g/mol'.format(\n",
    "            comp.compname, comp.Tc, comp.Pc, comp.MW))"
   ]
  },
  {
   "cell_type": "markdown",
   "metadata": {},
   "source": [
    "* The specific name convention for the components is not fixed.  \n",
    "* You are able to specify components using a variety of aliases for each component.  \n",
    "* See example below"
   ]
  },
  {
   "cell_type": "code",
   "execution_count": 2,
   "metadata": {
    "collapsed": false
   },
   "outputs": [
    {
     "name": "stdout",
     "output_type": "stream",
     "text": [
      "h2o: Tc=647.3 K, Pc=220.5 bar, MW=18.0 g/mol\n",
      "n2 : Tc=126.2 K, Pc= 34.0 bar, MW=28.0 g/mol\n",
      "co2: Tc=304.2 K, Pc= 73.8 bar, MW=44.0 g/mol\n"
     ]
    }
   ],
   "source": [
    "comps = ['water', 'n_2', 'carbon dioxide']\n",
    "comp_list = [comp_table.Component(ii) for ii in comps]\n",
    "for comp in comp_list:\n",
    "    print('{0:3s}: Tc={1:5.1f} K, Pc={2:5.1f} bar, MW={3:3.1f} g/mol'.format(\n",
    "            comp.compname, comp.Tc, comp.Pc, comp.MW))"
   ]
  },
  {
   "cell_type": "markdown",
   "metadata": {},
   "source": [
    "* The complete list of methods and attributes for each components is quite vast. \n",
    "* See 'component_properties.py' for additional details"
   ]
  },
  {
   "cell_type": "markdown",
   "metadata": {},
   "source": [
    "## Fugacities\n",
    "\n",
    "* There are fugacity objectes for various phases including:\n",
    "  1. Liquid/vapor hydrocarbons phases\n",
    "  2. aqueous phase\n",
    "  3. hydrate phase (structure 1 and structure 2)\n",
    "* Each phase fugacity has a file associated with it.\n",
    "* See example below"
   ]
  },
  {
   "cell_type": "code",
   "execution_count": 3,
   "metadata": {
    "collapsed": false
   },
   "outputs": [
    {
     "name": "stdout",
     "output_type": "stream",
     "text": [
      "fugacity of h2o in the hydrocarbon phase is 7.06 bar\n",
      "fugacity of h2o in the aqueous phase is 0.02 bar \n",
      "\n",
      "fugacity of n2 in the hydrocarbon phase is 11.13 bar\n",
      "fugacity of n2 in the aqueous phase is 90942.10 bar \n",
      "\n",
      "fugacity of co2 in the hydrocarbon phase is 8.36 bar\n",
      "fugacity of co2 in the aqueous phase is 87.82 bar \n",
      "\n"
     ]
    }
   ],
   "source": [
    "import vlhc_srk_eos as hc\n",
    "import aq_hb_eos as aq\n",
    "import h_vdwpm_eos as hyd\n",
    "import numpy as np\n",
    "\n",
    "# Composition, pressure, temperature\n",
    "x = np.ones(len(comps)) / len(comps)  # equal amounts of each component\n",
    "P = 30  # bar\n",
    "T = 300  # Kelvin\n",
    "\n",
    "# Create instances of each equation of state\n",
    "SRK_obj = hc.SrkEos(comp_list, T, P)\n",
    "Aq_obj = aq.HegBromEos(comp_list, T, P)\n",
    "\n",
    "# Access the fugacity of each component in each phase\n",
    "hc_fug = SRK_obj.calc(comp_list, T, P, x, phase='vapor')\n",
    "aq_fug = Aq_obj.calc(comp_list, T, P, x)\n",
    "for ii, comp in enumerate(comp_list):\n",
    "    print('fugacity of {0} in the hydrocarbon phase is {1:3.2f} bar'.format(\n",
    "            comp.compname, hc_fug[ii]))\n",
    "    print('fugacity of {0} in the aqueous phase is {1:3.2f} bar \\n'.format(\n",
    "            comp.compname, aq_fug[ii]))"
   ]
  },
  {
   "cell_type": "markdown",
   "metadata": {},
   "source": [
    "## Flash\n",
    "\n",
    "* The main purpose of hydrateflash is to calculate the amount of each component in each phase.\n",
    "  * This is called a \"flash\" calculation.\n",
    "* The flash calculation for aqueous and hydrocarbon phases is complex, but tractable.\n",
    "* The flash calculation when hydrate is a possible phase is far more complex.\n",
    "* At present, CSMGem is the best option for performing hydrate flash calculations.\n",
    "* hydrateflash performs flash calculations fast with complete transparency. \n",
    "* hydrateflash has been validated against CSMGem"
   ]
  },
  {
   "cell_type": "code",
   "execution_count": 4,
   "metadata": {
    "collapsed": false
   },
   "outputs": [
    {
     "name": "stdout",
     "output_type": "stream",
     "text": [
      "Calculation considers the following phases:\n",
      "['aqueous', 'vapor', 'lhc', 's1']\n",
      "\n",
      "The stable phases are:\n",
      "\n",
      "vapor: 0.0678 mol.%\n",
      "\twith 0.0002 mol.% h2o\n",
      "\twith 0.9998 mol.% ch4\n",
      "\n",
      "s1: 0.9322 mol.%\n",
      "\twith 0.8582 mol.% h2o\n",
      "\twith 0.1418 mol.% ch4\n"
     ]
    }
   ],
   "source": [
    "import flashalgorithm as fc\n",
    "\n",
    "flash = fc.FlashController(components=['water', 'methane'])\n",
    "output = flash.main_handler(\n",
    "            compobjs=flash.compobjs, \n",
    "            z=np.asarray([0.8, 0.2]), \n",
    "            T=280.0, \n",
    "            P=70.0)\n",
    "stable_dict = {phase: ii for ii, (phase, alpha) in \n",
    "                 enumerate(zip(flash.phases, flash.alpha_calc)) \n",
    "                 if alpha > 1e-10}\n",
    "print('Calculation considers the following phases:\\n{0}\\n'.format(flash.phases))\n",
    "print('The stable phases are:')\n",
    "for phase, index in stable_dict.items():\n",
    "    print('\\n{0}: {1:3.4f} mol.%'.format(phase, flash.alpha_calc[index]))\n",
    "    for ii, comp in enumerate(flash.compobjs): \n",
    "        print('\\twith {0:3.4f} mol.% {1}'.format(\n",
    "                flash.x_calc[ii, index],\n",
    "                comp.compname))\n",
    "\n"
   ]
  },
  {
   "cell_type": "code",
   "execution_count": 5,
   "metadata": {
    "collapsed": false
   },
   "outputs": [],
   "source": [
    "flash2 = fc.FlashController(components=['ethane', 'methane'])"
   ]
  },
  {
   "cell_type": "code",
   "execution_count": 6,
   "metadata": {
    "collapsed": false
   },
   "outputs": [
    {
     "name": "stdout",
     "output_type": "stream",
     "text": [
      "Calculation considers the following phases:\n",
      "['vapor', 'lhc']\n",
      "\n",
      "The stable phases are:\n",
      "\n",
      "vapor: 0.7731 mol.%\n",
      "\twith 0.4437 mol.% c2h6\n",
      "\twith 0.5563 mol.% ch4\n",
      "\n",
      "lhc: 0.2269 mol.%\n",
      "\twith 0.6919 mol.% c2h6\n",
      "\twith 0.3081 mol.% ch4\n"
     ]
    }
   ],
   "source": [
    "output2 = flash2.main_handler(\n",
    "            compobjs=flash2.compobjs, \n",
    "            z=np.asarray([0.5, 0.5]), \n",
    "            T=260.0, \n",
    "            P=50.0)\n",
    "stable_dict = {phase: ii for ii, (phase, alpha) in \n",
    "                 enumerate(zip(flash2.phases, flash2.alpha_calc)) \n",
    "                 if alpha > 1e-10}\n",
    "print('Calculation considers the following phases:\\n{0}\\n'.format(flash2.phases))\n",
    "print('The stable phases are:')\n",
    "for phase, index in stable_dict.items():\n",
    "    print('\\n{0}: {1:3.4f} mol.%'.format(phase, flash2.alpha_calc[index]))\n",
    "    for ii, comp in enumerate(flash2.compobjs): \n",
    "        print('\\twith {0:3.4f} mol.% {1}'.format(\n",
    "                flash2.x_calc[ii, index],\n",
    "                comp.compname))"
   ]
  },
  {
   "cell_type": "markdown",
   "metadata": {},
   "source": [
    "## More to come...stay tuned!"
   ]
  },
  {
   "cell_type": "code",
   "execution_count": null,
   "metadata": {
    "collapsed": true
   },
   "outputs": [],
   "source": [
    "\n"
   ]
  },
  {
   "cell_type": "code",
   "execution_count": null,
   "metadata": {
    "collapsed": true
   },
   "outputs": [],
   "source": []
  }
 ],
 "metadata": {
  "anaconda-cloud": {},
  "kernelspec": {
   "display_name": "Python [conda root]",
   "language": "python",
   "name": "conda-root-py"
  },
  "language_info": {
   "codemirror_mode": {
    "name": "ipython",
    "version": 3
   },
   "file_extension": ".py",
   "mimetype": "text/x-python",
   "name": "python",
   "nbconvert_exporter": "python",
   "pygments_lexer": "ipython3",
   "version": "3.5.2"
  }
 },
 "nbformat": 4,
 "nbformat_minor": 1
}
