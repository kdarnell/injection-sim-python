{
 "cells": [
  {
   "cell_type": "code",
   "execution_count": 1,
   "metadata": {
    "collapsed": false
   },
   "outputs": [],
   "source": [
    "import flashalgorithm as fc\n",
    "import component_properties as comp_table\n",
    "import vlhc_srk_eos as hc\n",
    "import aq_hb_eos as aq\n",
    "import h_vdwpm_eos as hyd\n",
    "import numpy as np"
   ]
  },
  {
   "cell_type": "code",
   "execution_count": 2,
   "metadata": {
    "collapsed": true
   },
   "outputs": [],
   "source": [
    "def make_pretty_output(output, flash):\n",
    "    stable_dict = {phase: ii for ii, (phase, alpha) in \n",
    "                   enumerate(zip(flash.phases, flash.alpha_calc)) \n",
    "                   if alpha > 1e-10}\n",
    "    print('Calculation considers the following phases:\\n{0}\\n'.format(flash.phases))\n",
    "    print('The stable phases are:')\n",
    "    for phase, index in stable_dict.items():\n",
    "        print('\\n{0}: {1:3.5f} mol.%'.format(phase, flash.alpha_calc[index]))\n",
    "        for ii, comp in enumerate(flash.compobjs): \n",
    "            print('\\twith {0:3.5f} mol.% {1}'.format(\n",
    "                flash.x_calc[ii, index],\n",
    "                comp.compname))"
   ]
  },
  {
   "cell_type": "code",
   "execution_count": 3,
   "metadata": {
    "collapsed": true
   },
   "outputs": [],
   "source": [
    "P = 70 # bar\n",
    "T = 273.15 + 6 # Kelvin"
   ]
  },
  {
   "cell_type": "code",
   "execution_count": 4,
   "metadata": {
    "collapsed": false
   },
   "outputs": [
    {
     "name": "stderr",
     "output_type": "stream",
     "text": [
      "/Users/kdarnell/hydrateflash_KD/flashalgorithm.py:339: RuntimeWarning: overflow encountered in exp\n",
      "  + s['a12']*np.log(P/T**2) + s['a13']/T**2)\n"
     ]
    },
    {
     "name": "stdout",
     "output_type": "stream",
     "text": [
      "Calculation considers the following phases:\n",
      "['aqueous', 'vapor', 'lhc', 's1', 's2']\n",
      "\n",
      "The stable phases are:\n",
      "\n",
      "s1: 0.29190 mol.%\n",
      "\twith 0.85620 mol.% h2o\n",
      "\twith 0.05849 mol.% ch4\n",
      "\twith 0.08342 mol.% c2h6\n",
      "\twith 0.00189 mol.% c3h8\n",
      "\n",
      "vapor: 0.03438 mol.%\n",
      "\twith 0.00011 mol.% h2o\n",
      "\twith 0.32894 mol.% ch4\n",
      "\twith 0.31867 mol.% c2h6\n",
      "\twith 0.35228 mol.% c3h8\n",
      "\n",
      "lhc: 0.67372 mol.%\n",
      "\twith 0.00011 mol.% h2o\n",
      "\twith 0.32894 mol.% ch4\n",
      "\twith 0.31867 mol.% c2h6\n",
      "\twith 0.35228 mol.% c3h8\n"
     ]
    }
   ],
   "source": [
    "comps_iter = ['water', 'methane', 'ethane', 'propane']\n",
    "flash_iter = fc.FlashController(components=comps_iter,\n",
    "                                phases=('aqueous', 'vapor', 'lhc', 's1', 's2'))\n",
    "output = flash_iter.main_handler(\n",
    "            compobjs=flash_iter.compobjs, \n",
    "            z=np.asarray([0.25, 0.25, 0.25, 0.25]), \n",
    "            T=T, \n",
    "            P=P)\n",
    "make_pretty_output(output, flash_iter)"
   ]
  },
  {
   "cell_type": "code",
   "execution_count": 5,
   "metadata": {
    "collapsed": false
   },
   "outputs": [
    {
     "name": "stderr",
     "output_type": "stream",
     "text": [
      "/Users/kdarnell/hydrateflash_KD/flashalgorithm.py:339: RuntimeWarning: overflow encountered in exp\n",
      "  + s['a12']*np.log(P/T**2) + s['a13']/T**2)\n"
     ]
    },
    {
     "name": "stdout",
     "output_type": "stream",
     "text": [
      "Calculation considers the following phases:\n",
      "['aqueous', 'vapor', 'lhc', 's1', 's2']\n",
      "\n",
      "The stable phases are:\n",
      "\n",
      "s1: 0.29190 mol.%\n",
      "\twith 0.85620 mol.% h2o\n",
      "\twith 0.05849 mol.% ch4\n",
      "\twith 0.08342 mol.% c2h6\n",
      "\twith 0.00189 mol.% c3h8\n",
      "\n",
      "vapor: 0.00000 mol.%\n",
      "\twith 0.00011 mol.% h2o\n",
      "\twith 0.32894 mol.% ch4\n",
      "\twith 0.31867 mol.% c2h6\n",
      "\twith 0.35228 mol.% c3h8\n",
      "\n",
      "lhc: 0.70810 mol.%\n",
      "\twith 0.00011 mol.% h2o\n",
      "\twith 0.32894 mol.% ch4\n",
      "\twith 0.31867 mol.% c2h6\n",
      "\twith 0.35228 mol.% c3h8\n"
     ]
    }
   ],
   "source": [
    "comps_iter_incipient = ['water', 'methane', 'ethane', 'propane']\n",
    "flash_iter_incipient = fc.FlashController(components=comps_iter_incipient,\n",
    "                                phases=('aqueous', 'vapor', 'lhc', 's1', 's2'))\n",
    "output = flash_iter_incipient.main_handler(\n",
    "            compobjs=flash_iter_incipient.compobjs, \n",
    "            z=np.asarray([0.25, 0.25, 0.25, 0.25]), \n",
    "            T=T, \n",
    "            P=P,\n",
    "            incipient_calc=True)\n",
    "make_pretty_output(output, flash_iter_incipient)"
   ]
  },
  {
   "cell_type": "code",
   "execution_count": 6,
   "metadata": {
    "collapsed": false
   },
   "outputs": [
    {
     "name": "stderr",
     "output_type": "stream",
     "text": [
      "/Users/kdarnell/hydrateflash_KD/flashalgorithm.py:339: RuntimeWarning: overflow encountered in exp\n",
      "  + s['a12']*np.log(P/T**2) + s['a13']/T**2)\n"
     ]
    },
    {
     "name": "stdout",
     "output_type": "stream",
     "text": [
      "Calculation considers the following phases:\n",
      "['aqueous', 'vapor', 'lhc', 's1', 's2']\n",
      "\n",
      "The stable phases are:\n",
      "\n",
      "s1: 0.29165 mol.%\n",
      "\twith 0.85673 mol.% h2o\n",
      "\twith 0.05868 mol.% ch4\n",
      "\twith 0.08230 mol.% c2h6\n",
      "\twith 0.00229 mol.% c3h8\n",
      "\n",
      "vapor: 0.00000 mol.%\n",
      "\twith 0.00019 mol.% h2o\n",
      "\twith 0.32877 mol.% ch4\n",
      "\twith 0.31905 mol.% c2h6\n",
      "\twith 0.35199 mol.% c3h8\n",
      "\n",
      "lhc: 0.70835 mol.%\n",
      "\twith 0.00019 mol.% h2o\n",
      "\twith 0.32877 mol.% ch4\n",
      "\twith 0.31905 mol.% c2h6\n",
      "\twith 0.35199 mol.% c3h8\n"
     ]
    }
   ],
   "source": [
    "comps_iter_incipient = ['water', 'methane', 'ethane', 'propane']\n",
    "flash_iter_incipient = fc.FlashController(components=comps_iter_incipient,\n",
    "                                phases=('aqueous', 'vapor', 'lhc', 's1', 's2'))\n",
    "output = flash_iter_incipient.main_handler(\n",
    "            compobjs=flash_iter_incipient.compobjs, \n",
    "            z=np.asarray([0.25, 0.25, 0.25, 0.25]), \n",
    "            T=273.15 + 15, \n",
    "            P=110,\n",
    "            incipient_calc=True)\n",
    "make_pretty_output(output, flash_iter_incipient)"
   ]
  },
  {
   "cell_type": "code",
   "execution_count": 7,
   "metadata": {
    "collapsed": false
   },
   "outputs": [
    {
     "data": {
      "text/plain": [
       "[array([[  9.98340370e-01,   1.89132899e-04,   1.89132899e-04,\n",
       "           8.56730077e-01,   8.59374143e-01],\n",
       "        [  1.20637983e-03,   3.28774342e-01,   3.28774342e-01,\n",
       "           5.86762092e-02,   9.03656860e-02],\n",
       "        [  3.29043896e-04,   3.19047433e-01,   3.19047433e-01,\n",
       "           8.23005069e-02,   9.95287702e-03],\n",
       "        [  1.24206040e-04,   3.51989091e-01,   3.51989091e-01,\n",
       "           2.29320736e-03,   4.03072935e-02]]),\n",
       " array([  0.00000000e+00,   3.16833803e-07,   7.08348863e-01,\n",
       "          2.91650820e-01,   0.00000000e+00]),\n",
       " array([[  5.15324959e+03,   1.00000000e+00,   1.00000000e+00,\n",
       "           4.52977826e+03,   4.13608340e+03],\n",
       "        [  3.58224900e-03,   1.00000000e+00,   1.00000000e+00,\n",
       "           1.78469551e-01,   2.74856260e-01],\n",
       "        [  1.00685794e-03,   1.00000000e+00,   1.00000000e+00,\n",
       "           2.57956963e-01,   3.11956028e-02],\n",
       "        [  3.44495157e-04,   1.00000000e+00,   1.00000000e+00,\n",
       "           6.51499554e-03,   1.14512905e-01]]),\n",
       " 6,\n",
       " 1.8097395235056068e-07]"
      ]
     },
     "execution_count": 7,
     "metadata": {},
     "output_type": "execute_result"
    }
   ],
   "source": [
    "output"
   ]
  },
  {
   "cell_type": "code",
   "execution_count": null,
   "metadata": {
    "collapsed": true
   },
   "outputs": [],
   "source": []
  }
 ],
 "metadata": {
  "anaconda-cloud": {},
  "kernelspec": {
   "display_name": "Python [conda root]",
   "language": "python",
   "name": "conda-root-py"
  },
  "language_info": {
   "codemirror_mode": {
    "name": "ipython",
    "version": 3
   },
   "file_extension": ".py",
   "mimetype": "text/x-python",
   "name": "python",
   "nbconvert_exporter": "python",
   "pygments_lexer": "ipython3",
   "version": "3.5.2"
  }
 },
 "nbformat": 4,
 "nbformat_minor": 1
}
