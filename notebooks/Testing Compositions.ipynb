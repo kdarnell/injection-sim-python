{
 "cells": [
  {
   "cell_type": "code",
   "execution_count": 1,
   "metadata": {
    "collapsed": false
   },
   "outputs": [],
   "source": [
    "import flashalgorithm as fc\n",
    "import component_properties as comp_table\n",
    "import vlhc_srk_eos as hc\n",
    "import aq_hb_eos as aq\n",
    "import h_vdwpm_eos as hyd\n",
    "import numpy as np\n",
    "import time"
   ]
  },
  {
   "cell_type": "code",
   "execution_count": 2,
   "metadata": {
    "collapsed": true
   },
   "outputs": [],
   "source": [
    "def make_pretty_output(output, flash):\n",
    "    stable_dict = {phase: ii for ii, (phase, alpha) in \n",
    "                   enumerate(zip(flash.phases, flash.alpha_calc)) \n",
    "                   if alpha > 1e-10}\n",
    "    print('Calculation considers the following phases:\\n{0}\\n'.format(flash.phases))\n",
    "    print('The stable phases are:')\n",
    "    for phase, index in stable_dict.items():\n",
    "        print('\\n{0}: {1:3.5f} mol.%'.format(phase, flash.alpha_calc[index]))\n",
    "        for ii, comp in enumerate(flash.compobjs): \n",
    "            print('\\twith {0:3.5f} mol.% {1}'.format(\n",
    "                flash.x_calc[ii, index],\n",
    "                comp.compname))"
   ]
  },
  {
   "cell_type": "code",
   "execution_count": 3,
   "metadata": {
    "collapsed": false
   },
   "outputs": [],
   "source": [
    "comps_iter_wmonitor = ['water', 'methane', 'ethane']\n",
    "flash_iter_wmonitor = fc.FlashController(components=comps_iter_wmonitor,\n",
    "                                        phases=['aqueous', 'vapor', 'lhc', 's1', 's2'])"
   ]
  },
  {
   "cell_type": "code",
   "execution_count": 31,
   "metadata": {
    "collapsed": false
   },
   "outputs": [
    {
     "name": "stdout",
     "output_type": "stream",
     "text": [
      "Calculation considers the following phases:\n",
      "['aqueous', 'vapor', 'lhc', 's1', 's2']\n",
      "\n",
      "The stable phases are:\n",
      "\n",
      "lhc: 0.06637 mol.%\n",
      "\twith 0.00019 mol.% h2o\n",
      "\twith 0.98734 mol.% ch4\n",
      "\twith 0.01247 mol.% c2h6\n",
      "\n",
      "s1: 0.93363 mol.%\n",
      "\twith 0.85686 mol.% h2o\n",
      "\twith 0.13546 mol.% ch4\n",
      "\twith 0.00768 mol.% c2h6\n",
      "Elapsed time = 86.23344898223877\n"
     ]
    }
   ],
   "source": [
    "water_frac = 0.8\n",
    "t = time.time()\n",
    "output = flash_iter_wmonitor.main_handler(\n",
    "            compobjs=flash_iter_wmonitor.compobjs, \n",
    "            z=np.asarray([water_frac, (1-water_frac)*0.96, (1-water_frac)*0.04]), \n",
    "            T=282, #273.15 + 19,\n",
    "            P=91,\n",
    "            incipient_calc=False,\n",
    "            initialize=True,\n",
    "            monitor_calc=False)\n",
    "make_pretty_output(output, flash_iter_wmonitor)\n",
    "print('Elapsed time =', time.time() - t)"
   ]
  },
  {
   "cell_type": "code",
   "execution_count": 32,
   "metadata": {
    "collapsed": false
   },
   "outputs": [
    {
     "data": {
      "text/plain": [
       "[0.8, 0.18399999999999997, 0.015999999999999997]"
      ]
     },
     "execution_count": 32,
     "metadata": {},
     "output_type": "execute_result"
    }
   ],
   "source": [
    "[water_frac, (1-water_frac)*0.92, (1-water_frac)*0.08]"
   ]
  },
  {
   "cell_type": "code",
   "execution_count": 33,
   "metadata": {
    "collapsed": false
   },
   "outputs": [
    {
     "data": {
      "text/plain": [
       "[array([[  9.97626262e-01,   1.89085020e-04,   1.89085020e-04,\n",
       "           8.56857193e-01,   8.58057908e-01],\n",
       "        [  2.34874788e-03,   9.87338306e-01,   9.87338306e-01,\n",
       "           1.35460755e-01,   1.28024566e-01],\n",
       "        [  2.49900737e-05,   1.24726092e-02,   1.24726092e-02,\n",
       "           7.68205259e-03,   1.39175258e-02]]),\n",
       " array([  0.00000000e+00,   1.00000000e-10,   6.63701911e-02,\n",
       "          9.33629809e-01,   0.00000000e+00]),\n",
       " array([[  5.03207604e+03,   1.00000000e+00,   1.00000000e+00,\n",
       "           4.53159741e+03,   4.52036734e+03],\n",
       "        [  2.26885564e-03,   1.00000000e+00,   1.00000000e+00,\n",
       "           1.37197913e-01,   1.29666362e-01],\n",
       "        [  1.91093841e-03,   1.00000000e+00,   1.00000000e+00,\n",
       "           6.15913835e-01,   1.11584717e+00]]),\n",
       " 8,\n",
       " 3.1399884544293171e-07]"
      ]
     },
     "execution_count": 33,
     "metadata": {},
     "output_type": "execute_result"
    }
   ],
   "source": [
    "output"
   ]
  },
  {
   "cell_type": "code",
   "execution_count": null,
   "metadata": {
    "collapsed": false
   },
   "outputs": [],
   "source": [
    "flash_iter_wmonitor.monitor"
   ]
  },
  {
   "cell_type": "code",
   "execution_count": null,
   "metadata": {
    "collapsed": false
   },
   "outputs": [],
   "source": [
    "alpha_evolve = [x[0]['alpha'] for x in flash_iter_wmonitor.monitor]\n",
    "theta_evolve = [x[0]['theta'] for x in flash_iter_wmonitor.monitor]\n",
    "comp_phase0_evolve = [x[0]['x'][:, 0] for x in flash_iter_wmonitor.monitor]\n",
    "comp_phase1_evolve = [x[0]['x'][:, 1] for x in flash_iter_wmonitor.monitor]\n",
    "comp_phase2_evolve = [x[0]['x'][:, 2] for x in flash_iter_wmonitor.monitor]\n",
    "comp_phase3_evolve = [x[0]['x'][:, 3] for x in flash_iter_wmonitor.monitor]\n",
    "comp_phase4_evolve = [x[0]['x'][:, 4] for x in flash_iter_wmonitor.monitor]\n",
    "K_phase0_evolve = [x[0]['K'][:, 0] for x in flash_iter_wmonitor.monitor]\n",
    "K_phase1_evolve = [x[0]['K'][:, 1] for x in flash_iter_wmonitor.monitor]\n",
    "K_phase2_evolve = [x[0]['K'][:, 2] for x in flash_iter_wmonitor.monitor]\n",
    "K_phase3_evolve = [x[0]['K'][:, 3] for x in flash_iter_wmonitor.monitor]\n",
    "K_phase4_evolve = [x[0]['K'][:, 4] for x in flash_iter_wmonitor.monitor]"
   ]
  },
  {
   "cell_type": "code",
   "execution_count": null,
   "metadata": {
    "collapsed": false
   },
   "outputs": [],
   "source": [
    "import matplotlib.pyplot as plt\n",
    "% matplotlib inline\n",
    "plt.plot(alpha_evolve)\n",
    "plt.legend(['0', '1', '2', '3', '4'])\n",
    "plt.show"
   ]
  },
  {
   "cell_type": "code",
   "execution_count": null,
   "metadata": {
    "collapsed": false
   },
   "outputs": [],
   "source": [
    "import matplotlib.pyplot as plt\n",
    "% matplotlib inline\n",
    "plt.plot(theta_evolve)\n",
    "plt.legend(['0', '1', '2', '3', '4'])\n",
    "plt.show"
   ]
  },
  {
   "cell_type": "code",
   "execution_count": null,
   "metadata": {
    "collapsed": false
   },
   "outputs": [],
   "source": [
    "import matplotlib.pyplot as plt\n",
    "% matplotlib inline\n",
    "plt.plot(comp_phase0_evolve, '-s')\n",
    "plt.plot(comp_phase1_evolve)\n",
    "plt.plot(comp_phase2_evolve, '--')\n",
    "plt.plot(comp_phase3_evolve, '-x')\n",
    "plt.plot(comp_phase4_evolve, '-*')\n",
    "plt.legend()\n",
    "plt.show"
   ]
  },
  {
   "cell_type": "code",
   "execution_count": null,
   "metadata": {
    "collapsed": false
   },
   "outputs": [],
   "source": [
    "import matplotlib.pyplot as plt\n",
    "% matplotlib inline\n",
    "plt.plot(K_phase0_evolve, '-s')\n",
    "plt.plot(K_phase1_evolve)\n",
    "plt.plot(K_phase2_evolve, '--')\n",
    "plt.plot(K_phase3_evolve, '-x')\n",
    "plt.plot(K_phase4_evolve, '-*')\n",
    "plt.legend()\n",
    "plt.yscale('log')\n",
    "plt.ylim([1e-5, 1e5])\n",
    "plt.show"
   ]
  },
  {
   "cell_type": "code",
   "execution_count": null,
   "metadata": {
    "collapsed": true
   },
   "outputs": [],
   "source": []
  },
  {
   "cell_type": "code",
   "execution_count": null,
   "metadata": {
    "collapsed": true
   },
   "outputs": [],
   "source": []
  },
  {
   "cell_type": "code",
   "execution_count": null,
   "metadata": {
    "collapsed": true
   },
   "outputs": [],
   "source": []
  },
  {
   "cell_type": "code",
   "execution_count": null,
   "metadata": {
    "collapsed": true
   },
   "outputs": [],
   "source": []
  }
 ],
 "metadata": {
  "anaconda-cloud": {},
  "kernelspec": {
   "display_name": "Python [conda root]",
   "language": "python",
   "name": "conda-root-py"
  },
  "language_info": {
   "codemirror_mode": {
    "name": "ipython",
    "version": 3
   },
   "file_extension": ".py",
   "mimetype": "text/x-python",
   "name": "python",
   "nbconvert_exporter": "python",
   "pygments_lexer": "ipython3",
   "version": "3.5.2"
  }
 },
 "nbformat": 4,
 "nbformat_minor": 1
}
